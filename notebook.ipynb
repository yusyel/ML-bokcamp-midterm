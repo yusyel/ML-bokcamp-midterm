{
 "cells": [
  {
   "cell_type": "markdown",
   "metadata": {},
   "source": [
    "# 1. Data Data Preparation"
   ]
  },
  {
   "cell_type": "code",
   "execution_count": 34,
   "metadata": {},
   "outputs": [],
   "source": [
    "import pandas as pd\n",
    "import numpy as np\n"
   ]
  },
  {
   "cell_type": "code",
   "execution_count": 35,
   "metadata": {},
   "outputs": [],
   "source": [
    "df = pd.read_csv('framingham.csv')\n"
   ]
  },
  {
   "cell_type": "code",
   "execution_count": 36,
   "metadata": {},
   "outputs": [],
   "source": [
    "df.columns = df.columns.str.lower()\n"
   ]
  },
  {
   "cell_type": "code",
   "execution_count": 37,
   "metadata": {},
   "outputs": [
    {
     "data": {
      "text/html": [
       "<div>\n",
       "<style scoped>\n",
       "    .dataframe tbody tr th:only-of-type {\n",
       "        vertical-align: middle;\n",
       "    }\n",
       "\n",
       "    .dataframe tbody tr th {\n",
       "        vertical-align: top;\n",
       "    }\n",
       "\n",
       "    .dataframe thead th {\n",
       "        text-align: right;\n",
       "    }\n",
       "</style>\n",
       "<table border=\"1\" class=\"dataframe\">\n",
       "  <thead>\n",
       "    <tr style=\"text-align: right;\">\n",
       "      <th></th>\n",
       "      <th>0</th>\n",
       "      <th>1</th>\n",
       "      <th>2</th>\n",
       "      <th>3</th>\n",
       "      <th>4</th>\n",
       "    </tr>\n",
       "  </thead>\n",
       "  <tbody>\n",
       "    <tr>\n",
       "      <th>male</th>\n",
       "      <td>1.00</td>\n",
       "      <td>0.00</td>\n",
       "      <td>1.00</td>\n",
       "      <td>0.00</td>\n",
       "      <td>0.0</td>\n",
       "    </tr>\n",
       "    <tr>\n",
       "      <th>age</th>\n",
       "      <td>39.00</td>\n",
       "      <td>46.00</td>\n",
       "      <td>48.00</td>\n",
       "      <td>61.00</td>\n",
       "      <td>46.0</td>\n",
       "    </tr>\n",
       "    <tr>\n",
       "      <th>education</th>\n",
       "      <td>4.00</td>\n",
       "      <td>2.00</td>\n",
       "      <td>1.00</td>\n",
       "      <td>3.00</td>\n",
       "      <td>3.0</td>\n",
       "    </tr>\n",
       "    <tr>\n",
       "      <th>currentsmoker</th>\n",
       "      <td>0.00</td>\n",
       "      <td>0.00</td>\n",
       "      <td>1.00</td>\n",
       "      <td>1.00</td>\n",
       "      <td>1.0</td>\n",
       "    </tr>\n",
       "    <tr>\n",
       "      <th>cigsperday</th>\n",
       "      <td>0.00</td>\n",
       "      <td>0.00</td>\n",
       "      <td>20.00</td>\n",
       "      <td>30.00</td>\n",
       "      <td>23.0</td>\n",
       "    </tr>\n",
       "    <tr>\n",
       "      <th>bpmeds</th>\n",
       "      <td>0.00</td>\n",
       "      <td>0.00</td>\n",
       "      <td>0.00</td>\n",
       "      <td>0.00</td>\n",
       "      <td>0.0</td>\n",
       "    </tr>\n",
       "    <tr>\n",
       "      <th>prevalentstroke</th>\n",
       "      <td>0.00</td>\n",
       "      <td>0.00</td>\n",
       "      <td>0.00</td>\n",
       "      <td>0.00</td>\n",
       "      <td>0.0</td>\n",
       "    </tr>\n",
       "    <tr>\n",
       "      <th>prevalenthyp</th>\n",
       "      <td>0.00</td>\n",
       "      <td>0.00</td>\n",
       "      <td>0.00</td>\n",
       "      <td>1.00</td>\n",
       "      <td>0.0</td>\n",
       "    </tr>\n",
       "    <tr>\n",
       "      <th>diabetes</th>\n",
       "      <td>0.00</td>\n",
       "      <td>0.00</td>\n",
       "      <td>0.00</td>\n",
       "      <td>0.00</td>\n",
       "      <td>0.0</td>\n",
       "    </tr>\n",
       "    <tr>\n",
       "      <th>totchol</th>\n",
       "      <td>195.00</td>\n",
       "      <td>250.00</td>\n",
       "      <td>245.00</td>\n",
       "      <td>225.00</td>\n",
       "      <td>285.0</td>\n",
       "    </tr>\n",
       "    <tr>\n",
       "      <th>sysbp</th>\n",
       "      <td>106.00</td>\n",
       "      <td>121.00</td>\n",
       "      <td>127.50</td>\n",
       "      <td>150.00</td>\n",
       "      <td>130.0</td>\n",
       "    </tr>\n",
       "    <tr>\n",
       "      <th>diabp</th>\n",
       "      <td>70.00</td>\n",
       "      <td>81.00</td>\n",
       "      <td>80.00</td>\n",
       "      <td>95.00</td>\n",
       "      <td>84.0</td>\n",
       "    </tr>\n",
       "    <tr>\n",
       "      <th>bmi</th>\n",
       "      <td>26.97</td>\n",
       "      <td>28.73</td>\n",
       "      <td>25.34</td>\n",
       "      <td>28.58</td>\n",
       "      <td>23.1</td>\n",
       "    </tr>\n",
       "    <tr>\n",
       "      <th>heartrate</th>\n",
       "      <td>80.00</td>\n",
       "      <td>95.00</td>\n",
       "      <td>75.00</td>\n",
       "      <td>65.00</td>\n",
       "      <td>85.0</td>\n",
       "    </tr>\n",
       "    <tr>\n",
       "      <th>glucose</th>\n",
       "      <td>77.00</td>\n",
       "      <td>76.00</td>\n",
       "      <td>70.00</td>\n",
       "      <td>103.00</td>\n",
       "      <td>85.0</td>\n",
       "    </tr>\n",
       "    <tr>\n",
       "      <th>tenyearchd</th>\n",
       "      <td>0.00</td>\n",
       "      <td>0.00</td>\n",
       "      <td>0.00</td>\n",
       "      <td>1.00</td>\n",
       "      <td>0.0</td>\n",
       "    </tr>\n",
       "  </tbody>\n",
       "</table>\n",
       "</div>"
      ],
      "text/plain": [
       "                      0       1       2       3      4\n",
       "male               1.00    0.00    1.00    0.00    0.0\n",
       "age               39.00   46.00   48.00   61.00   46.0\n",
       "education          4.00    2.00    1.00    3.00    3.0\n",
       "currentsmoker      0.00    0.00    1.00    1.00    1.0\n",
       "cigsperday         0.00    0.00   20.00   30.00   23.0\n",
       "bpmeds             0.00    0.00    0.00    0.00    0.0\n",
       "prevalentstroke    0.00    0.00    0.00    0.00    0.0\n",
       "prevalenthyp       0.00    0.00    0.00    1.00    0.0\n",
       "diabetes           0.00    0.00    0.00    0.00    0.0\n",
       "totchol          195.00  250.00  245.00  225.00  285.0\n",
       "sysbp            106.00  121.00  127.50  150.00  130.0\n",
       "diabp             70.00   81.00   80.00   95.00   84.0\n",
       "bmi               26.97   28.73   25.34   28.58   23.1\n",
       "heartrate         80.00   95.00   75.00   65.00   85.0\n",
       "glucose           77.00   76.00   70.00  103.00   85.0\n",
       "tenyearchd         0.00    0.00    0.00    1.00    0.0"
      ]
     },
     "execution_count": 37,
     "metadata": {},
     "output_type": "execute_result"
    }
   ],
   "source": [
    "df.head().T\n"
   ]
  },
  {
   "cell_type": "code",
   "execution_count": 38,
   "metadata": {},
   "outputs": [
    {
     "data": {
      "text/plain": [
       "male                  2\n",
       "age                  39\n",
       "education             4\n",
       "currentsmoker         2\n",
       "cigsperday           33\n",
       "bpmeds                2\n",
       "prevalentstroke       2\n",
       "prevalenthyp          2\n",
       "diabetes              2\n",
       "totchol             248\n",
       "sysbp               234\n",
       "diabp               146\n",
       "bmi                1363\n",
       "heartrate            73\n",
       "glucose             143\n",
       "tenyearchd            2\n",
       "dtype: int64"
      ]
     },
     "execution_count": 38,
     "metadata": {},
     "output_type": "execute_result"
    }
   ],
   "source": [
    "df.nunique()"
   ]
  },
  {
   "cell_type": "code",
   "execution_count": 39,
   "metadata": {},
   "outputs": [
    {
     "data": {
      "text/plain": [
       "male                 int64\n",
       "age                  int64\n",
       "education          float64\n",
       "currentsmoker        int64\n",
       "cigsperday         float64\n",
       "bpmeds             float64\n",
       "prevalentstroke      int64\n",
       "prevalenthyp         int64\n",
       "diabetes             int64\n",
       "totchol            float64\n",
       "sysbp              float64\n",
       "diabp              float64\n",
       "bmi                float64\n",
       "heartrate          float64\n",
       "glucose            float64\n",
       "tenyearchd           int64\n",
       "dtype: object"
      ]
     },
     "execution_count": 39,
     "metadata": {},
     "output_type": "execute_result"
    }
   ],
   "source": [
    "df.dtypes\n"
   ]
  },
  {
   "cell_type": "code",
   "execution_count": 40,
   "metadata": {},
   "outputs": [
    {
     "data": {
      "text/plain": [
       "male                  2\n",
       "age                  39\n",
       "education             4\n",
       "currentsmoker         2\n",
       "cigsperday           33\n",
       "bpmeds                2\n",
       "prevalentstroke       2\n",
       "prevalenthyp          2\n",
       "diabetes              2\n",
       "totchol             248\n",
       "sysbp               234\n",
       "diabp               146\n",
       "bmi                1363\n",
       "heartrate            73\n",
       "glucose             143\n",
       "tenyearchd            2\n",
       "dtype: int64"
      ]
     },
     "execution_count": 40,
     "metadata": {},
     "output_type": "execute_result"
    }
   ],
   "source": [
    "df.nunique()"
   ]
  },
  {
   "cell_type": "code",
   "execution_count": 41,
   "metadata": {},
   "outputs": [],
   "source": [
    "df['male'] = df['male'].astype(str)\n",
    "df['education'] = df['education'].astype(str)\n",
    "df['currentsmoker'] = df['currentsmoker'].astype(str)\n",
    "df['bpmeds'] = df['bpmeds'].astype(str)\n",
    "df['prevalentstroke'] = df['prevalenthyp'].astype(str)\n",
    "df['diabetes'] = df['diabetes'].astype(str)\n",
    "df['prevalenthyp'] = df['prevalenthyp'].astype(str)"
   ]
  },
  {
   "cell_type": "code",
   "execution_count": 42,
   "metadata": {},
   "outputs": [
    {
     "data": {
      "text/plain": [
       "male                  2\n",
       "age                  39\n",
       "education             5\n",
       "currentsmoker         2\n",
       "cigsperday           33\n",
       "bpmeds                3\n",
       "prevalentstroke       2\n",
       "prevalenthyp          2\n",
       "diabetes              2\n",
       "totchol             248\n",
       "sysbp               234\n",
       "diabp               146\n",
       "bmi                1363\n",
       "heartrate            73\n",
       "glucose             143\n",
       "tenyearchd            2\n",
       "dtype: int64"
      ]
     },
     "execution_count": 42,
     "metadata": {},
     "output_type": "execute_result"
    }
   ],
   "source": [
    "df.nunique()"
   ]
  },
  {
   "cell_type": "code",
   "execution_count": 43,
   "metadata": {},
   "outputs": [
    {
     "data": {
      "text/plain": [
       "male                object\n",
       "age                  int64\n",
       "education           object\n",
       "currentsmoker       object\n",
       "cigsperday         float64\n",
       "bpmeds              object\n",
       "prevalentstroke     object\n",
       "prevalenthyp        object\n",
       "diabetes            object\n",
       "totchol            float64\n",
       "sysbp              float64\n",
       "diabp              float64\n",
       "bmi                float64\n",
       "heartrate          float64\n",
       "glucose            float64\n",
       "tenyearchd           int64\n",
       "dtype: object"
      ]
     },
     "execution_count": 43,
     "metadata": {},
     "output_type": "execute_result"
    }
   ],
   "source": [
    "df.dtypes"
   ]
  },
  {
   "cell_type": "markdown",
   "metadata": {},
   "source": [
    "## 1.1 EDA for Missing Values"
   ]
  },
  {
   "cell_type": "code",
   "execution_count": 44,
   "metadata": {},
   "outputs": [],
   "source": [
    "numerical = ['age', 'cigsperday', 'totchol', 'sysbp',\n",
    "             'diabp', 'bmi', 'heartrate', 'glucose']\n"
   ]
  },
  {
   "cell_type": "code",
   "execution_count": 45,
   "metadata": {},
   "outputs": [],
   "source": [
    "categorical = ['male', 'education', 'currentsmoker', 'bpmeds',\n",
    "               'prevalentstroke', 'prevalenthyp', 'diabetes']\n"
   ]
  },
  {
   "cell_type": "code",
   "execution_count": 46,
   "metadata": {},
   "outputs": [
    {
     "data": {
      "text/html": [
       "<div>\n",
       "<style scoped>\n",
       "    .dataframe tbody tr th:only-of-type {\n",
       "        vertical-align: middle;\n",
       "    }\n",
       "\n",
       "    .dataframe tbody tr th {\n",
       "        vertical-align: top;\n",
       "    }\n",
       "\n",
       "    .dataframe thead th {\n",
       "        text-align: right;\n",
       "    }\n",
       "</style>\n",
       "<table border=\"1\" class=\"dataframe\">\n",
       "  <thead>\n",
       "    <tr style=\"text-align: right;\">\n",
       "      <th></th>\n",
       "      <th>male</th>\n",
       "      <th>education</th>\n",
       "      <th>currentsmoker</th>\n",
       "      <th>bpmeds</th>\n",
       "      <th>prevalentstroke</th>\n",
       "      <th>prevalenthyp</th>\n",
       "      <th>diabetes</th>\n",
       "    </tr>\n",
       "  </thead>\n",
       "  <tbody>\n",
       "    <tr>\n",
       "      <th>0</th>\n",
       "      <td>1</td>\n",
       "      <td>4.0</td>\n",
       "      <td>0</td>\n",
       "      <td>0.0</td>\n",
       "      <td>0</td>\n",
       "      <td>0</td>\n",
       "      <td>0</td>\n",
       "    </tr>\n",
       "    <tr>\n",
       "      <th>1</th>\n",
       "      <td>0</td>\n",
       "      <td>2.0</td>\n",
       "      <td>0</td>\n",
       "      <td>0.0</td>\n",
       "      <td>0</td>\n",
       "      <td>0</td>\n",
       "      <td>0</td>\n",
       "    </tr>\n",
       "    <tr>\n",
       "      <th>2</th>\n",
       "      <td>1</td>\n",
       "      <td>1.0</td>\n",
       "      <td>1</td>\n",
       "      <td>0.0</td>\n",
       "      <td>0</td>\n",
       "      <td>0</td>\n",
       "      <td>0</td>\n",
       "    </tr>\n",
       "    <tr>\n",
       "      <th>3</th>\n",
       "      <td>0</td>\n",
       "      <td>3.0</td>\n",
       "      <td>1</td>\n",
       "      <td>0.0</td>\n",
       "      <td>1</td>\n",
       "      <td>1</td>\n",
       "      <td>0</td>\n",
       "    </tr>\n",
       "    <tr>\n",
       "      <th>4</th>\n",
       "      <td>0</td>\n",
       "      <td>3.0</td>\n",
       "      <td>1</td>\n",
       "      <td>0.0</td>\n",
       "      <td>0</td>\n",
       "      <td>0</td>\n",
       "      <td>0</td>\n",
       "    </tr>\n",
       "  </tbody>\n",
       "</table>\n",
       "</div>"
      ],
      "text/plain": [
       "  male education currentsmoker bpmeds prevalentstroke prevalenthyp diabetes\n",
       "0    1       4.0             0    0.0               0            0        0\n",
       "1    0       2.0             0    0.0               0            0        0\n",
       "2    1       1.0             1    0.0               0            0        0\n",
       "3    0       3.0             1    0.0               1            1        0\n",
       "4    0       3.0             1    0.0               0            0        0"
      ]
     },
     "execution_count": 46,
     "metadata": {},
     "output_type": "execute_result"
    }
   ],
   "source": [
    "df[categorical].head()\n"
   ]
  },
  {
   "cell_type": "code",
   "execution_count": 47,
   "metadata": {},
   "outputs": [
    {
     "data": {
      "text/plain": [
       "male               0\n",
       "education          0\n",
       "currentsmoker      0\n",
       "bpmeds             0\n",
       "prevalentstroke    0\n",
       "prevalenthyp       0\n",
       "diabetes           0\n",
       "dtype: int64"
      ]
     },
     "execution_count": 47,
     "metadata": {},
     "output_type": "execute_result"
    }
   ],
   "source": [
    "df[categorical].isnull().sum()\n"
   ]
  },
  {
   "cell_type": "code",
   "execution_count": 48,
   "metadata": {},
   "outputs": [],
   "source": [
    "df.education = df.education.fillna(0)\n"
   ]
  },
  {
   "cell_type": "code",
   "execution_count": 49,
   "metadata": {},
   "outputs": [],
   "source": [
    "df.bpmeds = df.bpmeds.fillna(0)\n"
   ]
  },
  {
   "cell_type": "code",
   "execution_count": 50,
   "metadata": {},
   "outputs": [
    {
     "data": {
      "text/plain": [
       "male               0\n",
       "education          0\n",
       "currentsmoker      0\n",
       "bpmeds             0\n",
       "prevalentstroke    0\n",
       "prevalenthyp       0\n",
       "diabetes           0\n",
       "dtype: int64"
      ]
     },
     "execution_count": 50,
     "metadata": {},
     "output_type": "execute_result"
    }
   ],
   "source": [
    "df[categorical].isnull().sum()\n"
   ]
  },
  {
   "cell_type": "code",
   "execution_count": 51,
   "metadata": {},
   "outputs": [
    {
     "data": {
      "text/plain": [
       "age             0\n",
       "cigsperday     29\n",
       "totchol        50\n",
       "sysbp           0\n",
       "diabp           0\n",
       "bmi            19\n",
       "heartrate       1\n",
       "glucose       388\n",
       "dtype: int64"
      ]
     },
     "execution_count": 51,
     "metadata": {},
     "output_type": "execute_result"
    }
   ],
   "source": [
    "df[numerical].isnull().sum()\n"
   ]
  },
  {
   "cell_type": "code",
   "execution_count": 52,
   "metadata": {},
   "outputs": [],
   "source": [
    "df.cigsperday = df.cigsperday.fillna(df.cigsperday.mean())\n"
   ]
  },
  {
   "cell_type": "code",
   "execution_count": 53,
   "metadata": {},
   "outputs": [],
   "source": [
    "df.heartrate = df.heartrate.fillna(df.heartrate.mean())\n"
   ]
  },
  {
   "cell_type": "markdown",
   "metadata": {},
   "source": [
    "categorical variable filled with 0, numerical varible filled mean values."
   ]
  },
  {
   "cell_type": "code",
   "execution_count": 54,
   "metadata": {},
   "outputs": [],
   "source": [
    "df.glucose = df.glucose.fillna(df.glucose.mean())\n"
   ]
  },
  {
   "cell_type": "code",
   "execution_count": 55,
   "metadata": {},
   "outputs": [],
   "source": [
    "df.totchol = df.totchol.fillna(df.totchol.mean())\n"
   ]
  },
  {
   "cell_type": "code",
   "execution_count": 56,
   "metadata": {},
   "outputs": [],
   "source": [
    "df.bmi = df.bmi.fillna(df.bmi.mean())\n"
   ]
  },
  {
   "cell_type": "code",
   "execution_count": 57,
   "metadata": {},
   "outputs": [
    {
     "data": {
      "text/plain": [
       "male               0\n",
       "age                0\n",
       "education          0\n",
       "currentsmoker      0\n",
       "cigsperday         0\n",
       "bpmeds             0\n",
       "prevalentstroke    0\n",
       "prevalenthyp       0\n",
       "diabetes           0\n",
       "totchol            0\n",
       "sysbp              0\n",
       "diabp              0\n",
       "bmi                0\n",
       "heartrate          0\n",
       "glucose            0\n",
       "tenyearchd         0\n",
       "dtype: int64"
      ]
     },
     "execution_count": 57,
     "metadata": {},
     "output_type": "execute_result"
    }
   ],
   "source": [
    "df.isnull().sum()\n"
   ]
  },
  {
   "cell_type": "code",
   "execution_count": 58,
   "metadata": {},
   "outputs": [
    {
     "data": {
      "text/html": [
       "<div>\n",
       "<style scoped>\n",
       "    .dataframe tbody tr th:only-of-type {\n",
       "        vertical-align: middle;\n",
       "    }\n",
       "\n",
       "    .dataframe tbody tr th {\n",
       "        vertical-align: top;\n",
       "    }\n",
       "\n",
       "    .dataframe thead th {\n",
       "        text-align: right;\n",
       "    }\n",
       "</style>\n",
       "<table border=\"1\" class=\"dataframe\">\n",
       "  <thead>\n",
       "    <tr style=\"text-align: right;\">\n",
       "      <th></th>\n",
       "      <th>male</th>\n",
       "      <th>age</th>\n",
       "      <th>education</th>\n",
       "      <th>currentsmoker</th>\n",
       "      <th>cigsperday</th>\n",
       "      <th>bpmeds</th>\n",
       "      <th>prevalentstroke</th>\n",
       "      <th>prevalenthyp</th>\n",
       "      <th>diabetes</th>\n",
       "      <th>totchol</th>\n",
       "      <th>sysbp</th>\n",
       "      <th>diabp</th>\n",
       "      <th>bmi</th>\n",
       "      <th>heartrate</th>\n",
       "      <th>glucose</th>\n",
       "      <th>tenyearchd</th>\n",
       "    </tr>\n",
       "  </thead>\n",
       "  <tbody>\n",
       "    <tr>\n",
       "      <th>0</th>\n",
       "      <td>1</td>\n",
       "      <td>39</td>\n",
       "      <td>4.0</td>\n",
       "      <td>0</td>\n",
       "      <td>0.0</td>\n",
       "      <td>0.0</td>\n",
       "      <td>0</td>\n",
       "      <td>0</td>\n",
       "      <td>0</td>\n",
       "      <td>195.0</td>\n",
       "      <td>106.0</td>\n",
       "      <td>70.0</td>\n",
       "      <td>26.97</td>\n",
       "      <td>80.0</td>\n",
       "      <td>77.0</td>\n",
       "      <td>0</td>\n",
       "    </tr>\n",
       "    <tr>\n",
       "      <th>1</th>\n",
       "      <td>0</td>\n",
       "      <td>46</td>\n",
       "      <td>2.0</td>\n",
       "      <td>0</td>\n",
       "      <td>0.0</td>\n",
       "      <td>0.0</td>\n",
       "      <td>0</td>\n",
       "      <td>0</td>\n",
       "      <td>0</td>\n",
       "      <td>250.0</td>\n",
       "      <td>121.0</td>\n",
       "      <td>81.0</td>\n",
       "      <td>28.73</td>\n",
       "      <td>95.0</td>\n",
       "      <td>76.0</td>\n",
       "      <td>0</td>\n",
       "    </tr>\n",
       "    <tr>\n",
       "      <th>2</th>\n",
       "      <td>1</td>\n",
       "      <td>48</td>\n",
       "      <td>1.0</td>\n",
       "      <td>1</td>\n",
       "      <td>20.0</td>\n",
       "      <td>0.0</td>\n",
       "      <td>0</td>\n",
       "      <td>0</td>\n",
       "      <td>0</td>\n",
       "      <td>245.0</td>\n",
       "      <td>127.5</td>\n",
       "      <td>80.0</td>\n",
       "      <td>25.34</td>\n",
       "      <td>75.0</td>\n",
       "      <td>70.0</td>\n",
       "      <td>0</td>\n",
       "    </tr>\n",
       "    <tr>\n",
       "      <th>3</th>\n",
       "      <td>0</td>\n",
       "      <td>61</td>\n",
       "      <td>3.0</td>\n",
       "      <td>1</td>\n",
       "      <td>30.0</td>\n",
       "      <td>0.0</td>\n",
       "      <td>1</td>\n",
       "      <td>1</td>\n",
       "      <td>0</td>\n",
       "      <td>225.0</td>\n",
       "      <td>150.0</td>\n",
       "      <td>95.0</td>\n",
       "      <td>28.58</td>\n",
       "      <td>65.0</td>\n",
       "      <td>103.0</td>\n",
       "      <td>1</td>\n",
       "    </tr>\n",
       "    <tr>\n",
       "      <th>4</th>\n",
       "      <td>0</td>\n",
       "      <td>46</td>\n",
       "      <td>3.0</td>\n",
       "      <td>1</td>\n",
       "      <td>23.0</td>\n",
       "      <td>0.0</td>\n",
       "      <td>0</td>\n",
       "      <td>0</td>\n",
       "      <td>0</td>\n",
       "      <td>285.0</td>\n",
       "      <td>130.0</td>\n",
       "      <td>84.0</td>\n",
       "      <td>23.10</td>\n",
       "      <td>85.0</td>\n",
       "      <td>85.0</td>\n",
       "      <td>0</td>\n",
       "    </tr>\n",
       "  </tbody>\n",
       "</table>\n",
       "</div>"
      ],
      "text/plain": [
       "  male  age education currentsmoker  cigsperday bpmeds prevalentstroke  \\\n",
       "0    1   39       4.0             0         0.0    0.0               0   \n",
       "1    0   46       2.0             0         0.0    0.0               0   \n",
       "2    1   48       1.0             1        20.0    0.0               0   \n",
       "3    0   61       3.0             1        30.0    0.0               1   \n",
       "4    0   46       3.0             1        23.0    0.0               0   \n",
       "\n",
       "  prevalenthyp diabetes  totchol  sysbp  diabp    bmi  heartrate  glucose  \\\n",
       "0            0        0    195.0  106.0   70.0  26.97       80.0     77.0   \n",
       "1            0        0    250.0  121.0   81.0  28.73       95.0     76.0   \n",
       "2            0        0    245.0  127.5   80.0  25.34       75.0     70.0   \n",
       "3            1        0    225.0  150.0   95.0  28.58       65.0    103.0   \n",
       "4            0        0    285.0  130.0   84.0  23.10       85.0     85.0   \n",
       "\n",
       "   tenyearchd  \n",
       "0           0  \n",
       "1           0  \n",
       "2           0  \n",
       "3           1  \n",
       "4           0  "
      ]
     },
     "execution_count": 58,
     "metadata": {},
     "output_type": "execute_result"
    }
   ],
   "source": [
    "df.head()"
   ]
  },
  {
   "cell_type": "code",
   "execution_count": 59,
   "metadata": {},
   "outputs": [
    {
     "data": {
      "text/plain": [
       "Index(['male', 'age', 'education', 'currentsmoker', 'cigsperday', 'bpmeds',\n",
       "       'prevalentstroke', 'prevalenthyp', 'diabetes', 'totchol', 'sysbp',\n",
       "       'diabp', 'bmi', 'heartrate', 'glucose', 'tenyearchd'],\n",
       "      dtype='object')"
      ]
     },
     "execution_count": 59,
     "metadata": {},
     "output_type": "execute_result"
    }
   ],
   "source": [
    "df.columns"
   ]
  },
  {
   "cell_type": "code",
   "execution_count": 60,
   "metadata": {},
   "outputs": [
    {
     "data": {
      "text/html": [
       "<div>\n",
       "<style scoped>\n",
       "    .dataframe tbody tr th:only-of-type {\n",
       "        vertical-align: middle;\n",
       "    }\n",
       "\n",
       "    .dataframe tbody tr th {\n",
       "        vertical-align: top;\n",
       "    }\n",
       "\n",
       "    .dataframe thead th {\n",
       "        text-align: right;\n",
       "    }\n",
       "</style>\n",
       "<table border=\"1\" class=\"dataframe\">\n",
       "  <thead>\n",
       "    <tr style=\"text-align: right;\">\n",
       "      <th></th>\n",
       "      <th>age</th>\n",
       "      <th>cigsperday</th>\n",
       "      <th>totchol</th>\n",
       "      <th>sysbp</th>\n",
       "      <th>diabp</th>\n",
       "      <th>bmi</th>\n",
       "      <th>heartrate</th>\n",
       "      <th>glucose</th>\n",
       "    </tr>\n",
       "  </thead>\n",
       "  <tbody>\n",
       "    <tr>\n",
       "      <th>0</th>\n",
       "      <td>39</td>\n",
       "      <td>0.0</td>\n",
       "      <td>195.0</td>\n",
       "      <td>106.0</td>\n",
       "      <td>70.0</td>\n",
       "      <td>26.97</td>\n",
       "      <td>80.0</td>\n",
       "      <td>77.0</td>\n",
       "    </tr>\n",
       "    <tr>\n",
       "      <th>1</th>\n",
       "      <td>46</td>\n",
       "      <td>0.0</td>\n",
       "      <td>250.0</td>\n",
       "      <td>121.0</td>\n",
       "      <td>81.0</td>\n",
       "      <td>28.73</td>\n",
       "      <td>95.0</td>\n",
       "      <td>76.0</td>\n",
       "    </tr>\n",
       "    <tr>\n",
       "      <th>2</th>\n",
       "      <td>48</td>\n",
       "      <td>20.0</td>\n",
       "      <td>245.0</td>\n",
       "      <td>127.5</td>\n",
       "      <td>80.0</td>\n",
       "      <td>25.34</td>\n",
       "      <td>75.0</td>\n",
       "      <td>70.0</td>\n",
       "    </tr>\n",
       "    <tr>\n",
       "      <th>3</th>\n",
       "      <td>61</td>\n",
       "      <td>30.0</td>\n",
       "      <td>225.0</td>\n",
       "      <td>150.0</td>\n",
       "      <td>95.0</td>\n",
       "      <td>28.58</td>\n",
       "      <td>65.0</td>\n",
       "      <td>103.0</td>\n",
       "    </tr>\n",
       "    <tr>\n",
       "      <th>4</th>\n",
       "      <td>46</td>\n",
       "      <td>23.0</td>\n",
       "      <td>285.0</td>\n",
       "      <td>130.0</td>\n",
       "      <td>84.0</td>\n",
       "      <td>23.10</td>\n",
       "      <td>85.0</td>\n",
       "      <td>85.0</td>\n",
       "    </tr>\n",
       "  </tbody>\n",
       "</table>\n",
       "</div>"
      ],
      "text/plain": [
       "   age  cigsperday  totchol  sysbp  diabp    bmi  heartrate  glucose\n",
       "0   39         0.0    195.0  106.0   70.0  26.97       80.0     77.0\n",
       "1   46         0.0    250.0  121.0   81.0  28.73       95.0     76.0\n",
       "2   48        20.0    245.0  127.5   80.0  25.34       75.0     70.0\n",
       "3   61        30.0    225.0  150.0   95.0  28.58       65.0    103.0\n",
       "4   46        23.0    285.0  130.0   84.0  23.10       85.0     85.0"
      ]
     },
     "execution_count": 60,
     "metadata": {},
     "output_type": "execute_result"
    }
   ],
   "source": [
    "df[numerical].head()\n"
   ]
  },
  {
   "cell_type": "markdown",
   "metadata": {},
   "source": [
    "## 1.2 The Validation Frame"
   ]
  },
  {
   "cell_type": "code",
   "execution_count": 61,
   "metadata": {},
   "outputs": [],
   "source": [
    "from sklearn.model_selection import train_test_split\n"
   ]
  },
  {
   "cell_type": "code",
   "execution_count": 62,
   "metadata": {},
   "outputs": [
    {
     "data": {
      "text/plain": [
       "(2542, 848, 848)"
      ]
     },
     "execution_count": 62,
     "metadata": {},
     "output_type": "execute_result"
    }
   ],
   "source": [
    "df_full_train, df_test = train_test_split(df, test_size=0.2, random_state=1)\n",
    "df_train, df_val = train_test_split(df_full_train, test_size=0.25, random_state=1)\n",
    "len(df_train), len(df_val), len(df_test)"
   ]
  },
  {
   "cell_type": "code",
   "execution_count": 63,
   "metadata": {},
   "outputs": [],
   "source": [
    "df_train = df_train.reset_index(drop = True)\n",
    "df_val = df_val.reset_index(drop = True)\n",
    "df_test = df_test.reset_index(drop = True)"
   ]
  },
  {
   "cell_type": "code",
   "execution_count": 64,
   "metadata": {},
   "outputs": [],
   "source": [
    "y_train = df_train.tenyearchd.values\n",
    "y_val = df_val.tenyearchd.values\n",
    "y_test = df_test.tenyearchd.values\n",
    "\n",
    "\n",
    "y_train_tree = y_train\n",
    "y_val_tree = y_val\n",
    "y_test_tree = y_test\n",
    "\n",
    "\n",
    "y_train_forest = y_train\n",
    "y_val_forest = y_val\n",
    "y_test_forest = y_test\n",
    "\n",
    "y_train_boost = y_train\n",
    "y_val_boost = y_val\n",
    "y_test_boost = y_test"
   ]
  },
  {
   "cell_type": "code",
   "execution_count": 65,
   "metadata": {},
   "outputs": [],
   "source": [
    "del df_train['tenyearchd']\n",
    "del df_val['tenyearchd']\n",
    "del df_test['tenyearchd']\n",
    "\n",
    "\n",
    "df_train_tree = df_train\n",
    "df_val_tree = df_val\n",
    "df_test_tree = df_test\n",
    "\n",
    "df_train_forest = df_train\n",
    "df_val_foresst = df_val\n",
    "df_test_forest = df_test\n",
    "\n",
    "\n",
    "df_train_boost = df_train\n",
    "df_val_boost = df_val\n",
    "df_test_boost = df_test"
   ]
  },
  {
   "cell_type": "markdown",
   "metadata": {},
   "source": [
    "# 2. Exploratory Data Analysis"
   ]
  },
  {
   "cell_type": "markdown",
   "metadata": {},
   "source": [
    "## 2.1 Exploratory Data Analysis For Numeric Variables"
   ]
  },
  {
   "cell_type": "code",
   "execution_count": 66,
   "metadata": {},
   "outputs": [],
   "source": [
    "import seaborn as sns\n",
    "import matplotlib.pyplot as plt\n",
    "%matplotlib inline\n"
   ]
  },
  {
   "cell_type": "code",
   "execution_count": 67,
   "metadata": {},
   "outputs": [
    {
     "data": {
      "text/plain": [
       "<AxesSubplot:title={'center':'cigsperday'}, xlabel='tenyearchd'>"
      ]
     },
     "execution_count": 67,
     "metadata": {},
     "output_type": "execute_result"
    },
    {
     "data": {
      "image/png": "[encoded data removed]",
      "text/plain": [
       "<Figure size 720x360 with 2 Axes>"
      ]
     },
     "metadata": {
      "needs_background": "light"
     },
     "output_type": "display_data"
    }
   ],
   "source": [
    "fig, ax = plt.subplots(1, 2, figsize=(10, 5))\n",
    "df_full_train.boxplot('age', 'tenyearchd', ax=ax[0])\n",
    "df_full_train.boxplot('cigsperday', 'tenyearchd', ax=ax[1])\n"
   ]
  },
  {
   "cell_type": "markdown",
   "metadata": {},
   "source": [
    "Seems like people who 10 year risk of coronary heart disease slightly older than other class.\n",
    "For both class distribution of number of cigarettes that the person smoked on average in one day is  right skewed distribution."
   ]
  },
  {
   "cell_type": "markdown",
   "metadata": {},
   "source": []
  },
  {
   "cell_type": "code",
   "execution_count": 68,
   "metadata": {},
   "outputs": [
    {
     "data": {
      "text/plain": [
       "<AxesSubplot:title={'center':'sysbp'}, xlabel='tenyearchd'>"
      ]
     },
     "execution_count": 68,
     "metadata": {},
     "output_type": "execute_result"
    },
    {
     "data": {
      "image/png": "[encoded data removed]",
      "text/plain": [
       "<Figure size 720x360 with 2 Axes>"
      ]
     },
     "metadata": {
      "needs_background": "light"
     },
     "output_type": "display_data"
    }
   ],
   "source": [
    "fig, ax = plt.subplots(1, 2, figsize=(10, 5))\n",
    "df_full_train.boxplot('totchol', 'tenyearchd', ax=ax[0])\n",
    "df_full_train.boxplot('sysbp', 'tenyearchd', ax=ax[1])\n"
   ]
  },
  {
   "cell_type": "markdown",
   "metadata": {},
   "source": [
    "Mean of **total cholesterol** level approximately 220-240 for both class and there is few outlier.\n",
    "Men of **Systolic blood pressure** for class 1 more than class 0. People who 10 year risk of CHD higher systolic blood pressure."
   ]
  },
  {
   "cell_type": "code",
   "execution_count": 69,
   "metadata": {},
   "outputs": [
    {
     "data": {
      "text/plain": [
       "<AxesSubplot:title={'center':'bmi'}, xlabel='tenyearchd'>"
      ]
     },
     "execution_count": 69,
     "metadata": {},
     "output_type": "execute_result"
    },
    {
     "data": {
      "image/png": "[encoded data removed]",
      "text/plain": [
       "<Figure size 720x360 with 2 Axes>"
      ]
     },
     "metadata": {
      "needs_background": "light"
     },
     "output_type": "display_data"
    }
   ],
   "source": [
    "fig, ax = plt.subplots(1, 2, figsize=(10, 5))\n",
    "df_full_train.boxplot('diabp', 'tenyearchd', ax=ax[0])\n",
    "df_full_train.boxplot('bmi', 'tenyearchd', ax=ax[1])\n"
   ]
  },
  {
   "cell_type": "markdown",
   "metadata": {},
   "source": [
    "Mean of **diastolic blood pressure** 81 for class 0, 85 for class 1. People who 10 year risk of CHD higher diastolic blood pressure.But considering outlier of class 0 diastolic blood pressure is not enough the explanation risk of CHD.\n",
    "\n"
   ]
  },
  {
   "cell_type": "code",
   "execution_count": 70,
   "metadata": {},
   "outputs": [
    {
     "data": {
      "text/plain": [
       "<AxesSubplot:title={'center':'glucose'}, xlabel='tenyearchd'>"
      ]
     },
     "execution_count": 70,
     "metadata": {},
     "output_type": "execute_result"
    },
    {
     "data": {
      "image/png": "[encoded data removed]",
      "text/plain": [
       "<Figure size 720x360 with 2 Axes>"
      ]
     },
     "metadata": {
      "needs_background": "light"
     },
     "output_type": "display_data"
    }
   ],
   "source": [
    "fig, ax = plt.subplots(1, 2, figsize=(10, 5))\n",
    "df_full_train.boxplot('heartrate', 'tenyearchd', ax=ax[0])\n",
    "df_full_train.boxplot('glucose', 'tenyearchd', ax=ax[1])\n"
   ]
  },
  {
   "cell_type": "markdown",
   "metadata": {},
   "source": [
    "High **heart rate** doesn't cause ten year risk of CHD. But statistically has to be test. **Glucose level** contains many outlier observations for both class. It is not the only decisive factor."
   ]
  },
  {
   "cell_type": "markdown",
   "metadata": {},
   "source": [
    "## 2.2 Exploratory Data Analysis For Categorical Variable"
   ]
  },
  {
   "cell_type": "markdown",
   "metadata": {},
   "source": []
  },
  {
   "cell_type": "code",
   "execution_count": 71,
   "metadata": {},
   "outputs": [
    {
     "data": {
      "text/html": [
       "<div>\n",
       "<style scoped>\n",
       "    .dataframe tbody tr th:only-of-type {\n",
       "        vertical-align: middle;\n",
       "    }\n",
       "\n",
       "    .dataframe tbody tr th {\n",
       "        vertical-align: top;\n",
       "    }\n",
       "\n",
       "    .dataframe thead th {\n",
       "        text-align: right;\n",
       "    }\n",
       "</style>\n",
       "<table border=\"1\" class=\"dataframe\">\n",
       "  <thead>\n",
       "    <tr style=\"text-align: right;\">\n",
       "      <th></th>\n",
       "      <th>male</th>\n",
       "      <th>education</th>\n",
       "      <th>currentsmoker</th>\n",
       "      <th>bpmeds</th>\n",
       "      <th>prevalentstroke</th>\n",
       "      <th>prevalenthyp</th>\n",
       "      <th>diabetes</th>\n",
       "    </tr>\n",
       "  </thead>\n",
       "  <tbody>\n",
       "    <tr>\n",
       "      <th>3873</th>\n",
       "      <td>1</td>\n",
       "      <td>nan</td>\n",
       "      <td>0</td>\n",
       "      <td>0.0</td>\n",
       "      <td>0</td>\n",
       "      <td>0</td>\n",
       "      <td>0</td>\n",
       "    </tr>\n",
       "    <tr>\n",
       "      <th>781</th>\n",
       "      <td>1</td>\n",
       "      <td>3.0</td>\n",
       "      <td>1</td>\n",
       "      <td>0.0</td>\n",
       "      <td>0</td>\n",
       "      <td>0</td>\n",
       "      <td>0</td>\n",
       "    </tr>\n",
       "    <tr>\n",
       "      <th>703</th>\n",
       "      <td>0</td>\n",
       "      <td>3.0</td>\n",
       "      <td>0</td>\n",
       "      <td>0.0</td>\n",
       "      <td>0</td>\n",
       "      <td>0</td>\n",
       "      <td>0</td>\n",
       "    </tr>\n",
       "    <tr>\n",
       "      <th>2675</th>\n",
       "      <td>1</td>\n",
       "      <td>2.0</td>\n",
       "      <td>1</td>\n",
       "      <td>0.0</td>\n",
       "      <td>0</td>\n",
       "      <td>0</td>\n",
       "      <td>0</td>\n",
       "    </tr>\n",
       "    <tr>\n",
       "      <th>394</th>\n",
       "      <td>0</td>\n",
       "      <td>2.0</td>\n",
       "      <td>0</td>\n",
       "      <td>0.0</td>\n",
       "      <td>1</td>\n",
       "      <td>1</td>\n",
       "      <td>0</td>\n",
       "    </tr>\n",
       "  </tbody>\n",
       "</table>\n",
       "</div>"
      ],
      "text/plain": [
       "     male education currentsmoker bpmeds prevalentstroke prevalenthyp diabetes\n",
       "3873    1       nan             0    0.0               0            0        0\n",
       "781     1       3.0             1    0.0               0            0        0\n",
       "703     0       3.0             0    0.0               0            0        0\n",
       "2675    1       2.0             1    0.0               0            0        0\n",
       "394     0       2.0             0    0.0               1            1        0"
      ]
     },
     "execution_count": 71,
     "metadata": {},
     "output_type": "execute_result"
    }
   ],
   "source": [
    "df_full_train[categorical].head()\n"
   ]
  },
  {
   "cell_type": "code",
   "execution_count": 72,
   "metadata": {},
   "outputs": [
    {
     "data": {
      "image/png": "[encoded data removed]",
      "text/plain": [
       "<Figure size 424.625x360 with 1 Axes>"
      ]
     },
     "metadata": {
      "needs_background": "light"
     },
     "output_type": "display_data"
    },
    {
     "data": {
      "image/png": "[encoded data removed]",
      "text/plain": [
       "<Figure size 424.625x360 with 1 Axes>"
      ]
     },
     "metadata": {
      "needs_background": "light"
     },
     "output_type": "display_data"
    },
    {
     "data": {
      "image/png": "[encoded data removed]",
      "text/plain": [
       "<Figure size 424.625x360 with 1 Axes>"
      ]
     },
     "metadata": {
      "needs_background": "light"
     },
     "output_type": "display_data"
    },
    {
     "data": {
      "image/png": "[encoded data removed]",
      "text/plain": [
       "<Figure size 424.625x360 with 1 Axes>"
      ]
     },
     "metadata": {
      "needs_background": "light"
     },
     "output_type": "display_data"
    },
    {
     "data": {
      "image/png": "[encoded data removed]",
      "text/plain": [
       "<Figure size 424.625x360 with 1 Axes>"
      ]
     },
     "metadata": {
      "needs_background": "light"
     },
     "output_type": "display_data"
    },
    {
     "data": {
      "image/png": "[encoded data removed]",
      "text/plain": [
       "<Figure size 424.625x360 with 1 Axes>"
      ]
     },
     "metadata": {
      "needs_background": "light"
     },
     "output_type": "display_data"
    },
    {
     "data": {
      "image/png": "[encoded data removed]",
      "text/plain": [
       "<Figure size 424.625x360 with 1 Axes>"
      ]
     },
     "metadata": {
      "needs_background": "light"
     },
     "output_type": "display_data"
    }
   ],
   "source": [
    "for cat in categorical:\n",
    "\n",
    "    sns.catplot(data=df_full_train, kind='count', x=cat, hue='tenyearchd')\n"
   ]
  },
  {
   "cell_type": "markdown",
   "metadata": {},
   "source": [
    "# 3. Feature Importance"
   ]
  },
  {
   "cell_type": "markdown",
   "metadata": {},
   "source": [
    "## 3.1 Feature Importance: CHD and Risk Ratio"
   ]
  },
  {
   "cell_type": "code",
   "execution_count": 73,
   "metadata": {},
   "outputs": [
    {
     "data": {
      "text/plain": [
       "0    0.843953\n",
       "1    0.156047\n",
       "Name: tenyearchd, dtype: float64"
      ]
     },
     "execution_count": 73,
     "metadata": {},
     "output_type": "execute_result"
    }
   ],
   "source": [
    "df_full_train.tenyearchd.value_counts(normalize=True)"
   ]
  },
  {
   "cell_type": "code",
   "execution_count": 74,
   "metadata": {},
   "outputs": [],
   "source": [
    "global_risk = df_full_train.tenyearchd.mean()"
   ]
  },
  {
   "cell_type": "code",
   "execution_count": 75,
   "metadata": {},
   "outputs": [
    {
     "data": {
      "text/html": [
       "<div>\n",
       "<style scoped>\n",
       "    .dataframe tbody tr th:only-of-type {\n",
       "        vertical-align: middle;\n",
       "    }\n",
       "\n",
       "    .dataframe tbody tr th {\n",
       "        vertical-align: top;\n",
       "    }\n",
       "\n",
       "    .dataframe thead th {\n",
       "        text-align: right;\n",
       "    }\n",
       "</style>\n",
       "<table border=\"1\" class=\"dataframe\">\n",
       "  <thead>\n",
       "    <tr style=\"text-align: right;\">\n",
       "      <th></th>\n",
       "      <th>mean</th>\n",
       "      <th>count</th>\n",
       "      <th>diff</th>\n",
       "      <th>risk</th>\n",
       "    </tr>\n",
       "    <tr>\n",
       "      <th>male</th>\n",
       "      <th></th>\n",
       "      <th></th>\n",
       "      <th></th>\n",
       "      <th></th>\n",
       "    </tr>\n",
       "  </thead>\n",
       "  <tbody>\n",
       "    <tr>\n",
       "      <th>0</th>\n",
       "      <td>0.124614</td>\n",
       "      <td>1942</td>\n",
       "      <td>-0.031433</td>\n",
       "      <td>0.798565</td>\n",
       "    </tr>\n",
       "    <tr>\n",
       "      <th>1</th>\n",
       "      <td>0.198204</td>\n",
       "      <td>1448</td>\n",
       "      <td>0.042157</td>\n",
       "      <td>1.270157</td>\n",
       "    </tr>\n",
       "  </tbody>\n",
       "</table>\n",
       "</div>"
      ],
      "text/plain": [
       "          mean  count      diff      risk\n",
       "male                                     \n",
       "0     0.124614   1942 -0.031433  0.798565\n",
       "1     0.198204   1448  0.042157  1.270157"
      ]
     },
     "metadata": {},
     "output_type": "display_data"
    },
    {
     "name": "stdout",
     "output_type": "stream",
     "text": [
      "\n"
     ]
    },
    {
     "data": {
      "text/html": [
       "<div>\n",
       "<style scoped>\n",
       "    .dataframe tbody tr th:only-of-type {\n",
       "        vertical-align: middle;\n",
       "    }\n",
       "\n",
       "    .dataframe tbody tr th {\n",
       "        vertical-align: top;\n",
       "    }\n",
       "\n",
       "    .dataframe thead th {\n",
       "        text-align: right;\n",
       "    }\n",
       "</style>\n",
       "<table border=\"1\" class=\"dataframe\">\n",
       "  <thead>\n",
       "    <tr style=\"text-align: right;\">\n",
       "      <th></th>\n",
       "      <th>mean</th>\n",
       "      <th>count</th>\n",
       "      <th>diff</th>\n",
       "      <th>risk</th>\n",
       "    </tr>\n",
       "    <tr>\n",
       "      <th>education</th>\n",
       "      <th></th>\n",
       "      <th></th>\n",
       "      <th></th>\n",
       "      <th></th>\n",
       "    </tr>\n",
       "  </thead>\n",
       "  <tbody>\n",
       "    <tr>\n",
       "      <th>1.0</th>\n",
       "      <td>0.196135</td>\n",
       "      <td>1397</td>\n",
       "      <td>0.040087</td>\n",
       "      <td>1.256893</td>\n",
       "    </tr>\n",
       "    <tr>\n",
       "      <th>2.0</th>\n",
       "      <td>0.120285</td>\n",
       "      <td>981</td>\n",
       "      <td>-0.035762</td>\n",
       "      <td>0.770827</td>\n",
       "    </tr>\n",
       "    <tr>\n",
       "      <th>3.0</th>\n",
       "      <td>0.121597</td>\n",
       "      <td>551</td>\n",
       "      <td>-0.034450</td>\n",
       "      <td>0.779233</td>\n",
       "    </tr>\n",
       "    <tr>\n",
       "      <th>4.0</th>\n",
       "      <td>0.146667</td>\n",
       "      <td>375</td>\n",
       "      <td>-0.009381</td>\n",
       "      <td>0.939887</td>\n",
       "    </tr>\n",
       "    <tr>\n",
       "      <th>nan</th>\n",
       "      <td>0.174419</td>\n",
       "      <td>86</td>\n",
       "      <td>0.018371</td>\n",
       "      <td>1.117730</td>\n",
       "    </tr>\n",
       "  </tbody>\n",
       "</table>\n",
       "</div>"
      ],
      "text/plain": [
       "               mean  count      diff      risk\n",
       "education                                     \n",
       "1.0        0.196135   1397  0.040087  1.256893\n",
       "2.0        0.120285    981 -0.035762  0.770827\n",
       "3.0        0.121597    551 -0.034450  0.779233\n",
       "4.0        0.146667    375 -0.009381  0.939887\n",
       "nan        0.174419     86  0.018371  1.117730"
      ]
     },
     "metadata": {},
     "output_type": "display_data"
    },
    {
     "name": "stdout",
     "output_type": "stream",
     "text": [
      "\n"
     ]
    },
    {
     "data": {
      "text/html": [
       "<div>\n",
       "<style scoped>\n",
       "    .dataframe tbody tr th:only-of-type {\n",
       "        vertical-align: middle;\n",
       "    }\n",
       "\n",
       "    .dataframe tbody tr th {\n",
       "        vertical-align: top;\n",
       "    }\n",
       "\n",
       "    .dataframe thead th {\n",
       "        text-align: right;\n",
       "    }\n",
       "</style>\n",
       "<table border=\"1\" class=\"dataframe\">\n",
       "  <thead>\n",
       "    <tr style=\"text-align: right;\">\n",
       "      <th></th>\n",
       "      <th>mean</th>\n",
       "      <th>count</th>\n",
       "      <th>diff</th>\n",
       "      <th>risk</th>\n",
       "    </tr>\n",
       "    <tr>\n",
       "      <th>currentsmoker</th>\n",
       "      <th></th>\n",
       "      <th></th>\n",
       "      <th></th>\n",
       "      <th></th>\n",
       "    </tr>\n",
       "  </thead>\n",
       "  <tbody>\n",
       "    <tr>\n",
       "      <th>0</th>\n",
       "      <td>0.150669</td>\n",
       "      <td>1719</td>\n",
       "      <td>-0.005378</td>\n",
       "      <td>0.965535</td>\n",
       "    </tr>\n",
       "    <tr>\n",
       "      <th>1</th>\n",
       "      <td>0.161580</td>\n",
       "      <td>1671</td>\n",
       "      <td>0.005533</td>\n",
       "      <td>1.035455</td>\n",
       "    </tr>\n",
       "  </tbody>\n",
       "</table>\n",
       "</div>"
      ],
      "text/plain": [
       "                   mean  count      diff      risk\n",
       "currentsmoker                                     \n",
       "0              0.150669   1719 -0.005378  0.965535\n",
       "1              0.161580   1671  0.005533  1.035455"
      ]
     },
     "metadata": {},
     "output_type": "display_data"
    },
    {
     "name": "stdout",
     "output_type": "stream",
     "text": [
      "\n"
     ]
    },
    {
     "data": {
      "text/html": [
       "<div>\n",
       "<style scoped>\n",
       "    .dataframe tbody tr th:only-of-type {\n",
       "        vertical-align: middle;\n",
       "    }\n",
       "\n",
       "    .dataframe tbody tr th {\n",
       "        vertical-align: top;\n",
       "    }\n",
       "\n",
       "    .dataframe thead th {\n",
       "        text-align: right;\n",
       "    }\n",
       "</style>\n",
       "<table border=\"1\" class=\"dataframe\">\n",
       "  <thead>\n",
       "    <tr style=\"text-align: right;\">\n",
       "      <th></th>\n",
       "      <th>mean</th>\n",
       "      <th>count</th>\n",
       "      <th>diff</th>\n",
       "      <th>risk</th>\n",
       "    </tr>\n",
       "    <tr>\n",
       "      <th>bpmeds</th>\n",
       "      <th></th>\n",
       "      <th></th>\n",
       "      <th></th>\n",
       "      <th></th>\n",
       "    </tr>\n",
       "  </thead>\n",
       "  <tbody>\n",
       "    <tr>\n",
       "      <th>0.0</th>\n",
       "      <td>0.149538</td>\n",
       "      <td>3250</td>\n",
       "      <td>-0.006509</td>\n",
       "      <td>0.958290</td>\n",
       "    </tr>\n",
       "    <tr>\n",
       "      <th>1.0</th>\n",
       "      <td>0.353535</td>\n",
       "      <td>99</td>\n",
       "      <td>0.197488</td>\n",
       "      <td>2.265567</td>\n",
       "    </tr>\n",
       "    <tr>\n",
       "      <th>nan</th>\n",
       "      <td>0.195122</td>\n",
       "      <td>41</td>\n",
       "      <td>0.039075</td>\n",
       "      <td>1.250403</td>\n",
       "    </tr>\n",
       "  </tbody>\n",
       "</table>\n",
       "</div>"
      ],
      "text/plain": [
       "            mean  count      diff      risk\n",
       "bpmeds                                     \n",
       "0.0     0.149538   3250 -0.006509  0.958290\n",
       "1.0     0.353535     99  0.197488  2.265567\n",
       "nan     0.195122     41  0.039075  1.250403"
      ]
     },
     "metadata": {},
     "output_type": "display_data"
    },
    {
     "name": "stdout",
     "output_type": "stream",
     "text": [
      "\n"
     ]
    },
    {
     "data": {
      "text/html": [
       "<div>\n",
       "<style scoped>\n",
       "    .dataframe tbody tr th:only-of-type {\n",
       "        vertical-align: middle;\n",
       "    }\n",
       "\n",
       "    .dataframe tbody tr th {\n",
       "        vertical-align: top;\n",
       "    }\n",
       "\n",
       "    .dataframe thead th {\n",
       "        text-align: right;\n",
       "    }\n",
       "</style>\n",
       "<table border=\"1\" class=\"dataframe\">\n",
       "  <thead>\n",
       "    <tr style=\"text-align: right;\">\n",
       "      <th></th>\n",
       "      <th>mean</th>\n",
       "      <th>count</th>\n",
       "      <th>diff</th>\n",
       "      <th>risk</th>\n",
       "    </tr>\n",
       "    <tr>\n",
       "      <th>prevalentstroke</th>\n",
       "      <th></th>\n",
       "      <th></th>\n",
       "      <th></th>\n",
       "      <th></th>\n",
       "    </tr>\n",
       "  </thead>\n",
       "  <tbody>\n",
       "    <tr>\n",
       "      <th>0</th>\n",
       "      <td>0.112965</td>\n",
       "      <td>2337</td>\n",
       "      <td>-0.043082</td>\n",
       "      <td>0.723918</td>\n",
       "    </tr>\n",
       "    <tr>\n",
       "      <th>1</th>\n",
       "      <td>0.251662</td>\n",
       "      <td>1053</td>\n",
       "      <td>0.095615</td>\n",
       "      <td>1.612729</td>\n",
       "    </tr>\n",
       "  </tbody>\n",
       "</table>\n",
       "</div>"
      ],
      "text/plain": [
       "                     mean  count      diff      risk\n",
       "prevalentstroke                                     \n",
       "0                0.112965   2337 -0.043082  0.723918\n",
       "1                0.251662   1053  0.095615  1.612729"
      ]
     },
     "metadata": {},
     "output_type": "display_data"
    },
    {
     "name": "stdout",
     "output_type": "stream",
     "text": [
      "\n"
     ]
    },
    {
     "data": {
      "text/html": [
       "<div>\n",
       "<style scoped>\n",
       "    .dataframe tbody tr th:only-of-type {\n",
       "        vertical-align: middle;\n",
       "    }\n",
       "\n",
       "    .dataframe tbody tr th {\n",
       "        vertical-align: top;\n",
       "    }\n",
       "\n",
       "    .dataframe thead th {\n",
       "        text-align: right;\n",
       "    }\n",
       "</style>\n",
       "<table border=\"1\" class=\"dataframe\">\n",
       "  <thead>\n",
       "    <tr style=\"text-align: right;\">\n",
       "      <th></th>\n",
       "      <th>mean</th>\n",
       "      <th>count</th>\n",
       "      <th>diff</th>\n",
       "      <th>risk</th>\n",
       "    </tr>\n",
       "    <tr>\n",
       "      <th>prevalenthyp</th>\n",
       "      <th></th>\n",
       "      <th></th>\n",
       "      <th></th>\n",
       "      <th></th>\n",
       "    </tr>\n",
       "  </thead>\n",
       "  <tbody>\n",
       "    <tr>\n",
       "      <th>0</th>\n",
       "      <td>0.112965</td>\n",
       "      <td>2337</td>\n",
       "      <td>-0.043082</td>\n",
       "      <td>0.723918</td>\n",
       "    </tr>\n",
       "    <tr>\n",
       "      <th>1</th>\n",
       "      <td>0.251662</td>\n",
       "      <td>1053</td>\n",
       "      <td>0.095615</td>\n",
       "      <td>1.612729</td>\n",
       "    </tr>\n",
       "  </tbody>\n",
       "</table>\n",
       "</div>"
      ],
      "text/plain": [
       "                  mean  count      diff      risk\n",
       "prevalenthyp                                     \n",
       "0             0.112965   2337 -0.043082  0.723918\n",
       "1             0.251662   1053  0.095615  1.612729"
      ]
     },
     "metadata": {},
     "output_type": "display_data"
    },
    {
     "name": "stdout",
     "output_type": "stream",
     "text": [
      "\n"
     ]
    },
    {
     "data": {
      "text/html": [
       "<div>\n",
       "<style scoped>\n",
       "    .dataframe tbody tr th:only-of-type {\n",
       "        vertical-align: middle;\n",
       "    }\n",
       "\n",
       "    .dataframe tbody tr th {\n",
       "        vertical-align: top;\n",
       "    }\n",
       "\n",
       "    .dataframe thead th {\n",
       "        text-align: right;\n",
       "    }\n",
       "</style>\n",
       "<table border=\"1\" class=\"dataframe\">\n",
       "  <thead>\n",
       "    <tr style=\"text-align: right;\">\n",
       "      <th></th>\n",
       "      <th>mean</th>\n",
       "      <th>count</th>\n",
       "      <th>diff</th>\n",
       "      <th>risk</th>\n",
       "    </tr>\n",
       "    <tr>\n",
       "      <th>diabetes</th>\n",
       "      <th></th>\n",
       "      <th></th>\n",
       "      <th></th>\n",
       "      <th></th>\n",
       "    </tr>\n",
       "  </thead>\n",
       "  <tbody>\n",
       "    <tr>\n",
       "      <th>0</th>\n",
       "      <td>0.148788</td>\n",
       "      <td>3300</td>\n",
       "      <td>-0.007259</td>\n",
       "      <td>0.953480</td>\n",
       "    </tr>\n",
       "    <tr>\n",
       "      <th>1</th>\n",
       "      <td>0.422222</td>\n",
       "      <td>90</td>\n",
       "      <td>0.266175</td>\n",
       "      <td>2.705734</td>\n",
       "    </tr>\n",
       "  </tbody>\n",
       "</table>\n",
       "</div>"
      ],
      "text/plain": [
       "              mean  count      diff      risk\n",
       "diabetes                                     \n",
       "0         0.148788   3300 -0.007259  0.953480\n",
       "1         0.422222     90  0.266175  2.705734"
      ]
     },
     "metadata": {},
     "output_type": "display_data"
    },
    {
     "name": "stdout",
     "output_type": "stream",
     "text": [
      "\n"
     ]
    }
   ],
   "source": [
    "from IPython.display import display\n",
    "for cat in categorical:\n",
    "\tdf_group = df_full_train.groupby(cat).tenyearchd.agg(['mean', 'count'])\n",
    "\tdf_group['diff'] = df_group['mean'] - global_risk\n",
    "\tdf_group['risk'] = df_group['mean'] / global_risk\n",
    "\tdisplay(df_group)\n",
    "\tprint()"
   ]
  },
  {
   "cell_type": "markdown",
   "metadata": {},
   "source": [
    "For gender variable male more likely getting caught Coronary heart disease (**<i>CHD</i>**). Current smoker is interesting. Doesn't affect to CHD people smoking or not smoking. People who using blood pressure medication(**<i> bpmeds</i>**) is more likely high risk of getting caught CHD. People who had previously had a stroke and diabetes is more likely high risk o getting caught CHD. Lastly people who had prevalent hypertensive (**<i> High blood pressure </i>**) is more likely getting risk of CHD. "
   ]
  },
  {
   "cell_type": "markdown",
   "metadata": {},
   "source": [
    "## 3.2 Feature Importance: Mutual Information"
   ]
  },
  {
   "cell_type": "code",
   "execution_count": 76,
   "metadata": {},
   "outputs": [],
   "source": [
    "from sklearn.metrics import mutual_info_score"
   ]
  },
  {
   "cell_type": "code",
   "execution_count": 77,
   "metadata": {},
   "outputs": [],
   "source": [
    "df_scores= []\n",
    "for cat in categorical:\n",
    "\tm_info = mutual_info_score(df_full_train.tenyearchd, df_full_train[f'{cat}'])\n",
    "\tdf_scores.append(m_info)"
   ]
  },
  {
   "cell_type": "code",
   "execution_count": 78,
   "metadata": {},
   "outputs": [],
   "source": [
    "df_scores = pd.DataFrame(df_scores, columns=['score'])"
   ]
  },
  {
   "cell_type": "code",
   "execution_count": 79,
   "metadata": {},
   "outputs": [],
   "source": [
    "df_scores =df_scores.assign(categorical = pd.Series(categorical))"
   ]
  },
  {
   "cell_type": "code",
   "execution_count": 80,
   "metadata": {},
   "outputs": [
    {
     "data": {
      "text/html": [
       "<div>\n",
       "<style scoped>\n",
       "    .dataframe tbody tr th:only-of-type {\n",
       "        vertical-align: middle;\n",
       "    }\n",
       "\n",
       "    .dataframe tbody tr th {\n",
       "        vertical-align: top;\n",
       "    }\n",
       "\n",
       "    .dataframe thead th {\n",
       "        text-align: right;\n",
       "    }\n",
       "</style>\n",
       "<table border=\"1\" class=\"dataframe\">\n",
       "  <thead>\n",
       "    <tr style=\"text-align: right;\">\n",
       "      <th></th>\n",
       "      <th>score</th>\n",
       "      <th>categorical</th>\n",
       "    </tr>\n",
       "  </thead>\n",
       "  <tbody>\n",
       "    <tr>\n",
       "      <th>4</th>\n",
       "      <td>0.014695</td>\n",
       "      <td>prevalentstroke</td>\n",
       "    </tr>\n",
       "    <tr>\n",
       "      <th>5</th>\n",
       "      <td>0.014695</td>\n",
       "      <td>prevalenthyp</td>\n",
       "    </tr>\n",
       "    <tr>\n",
       "      <th>6</th>\n",
       "      <td>0.005543</td>\n",
       "      <td>diabetes</td>\n",
       "    </tr>\n",
       "    <tr>\n",
       "      <th>0</th>\n",
       "      <td>0.004977</td>\n",
       "      <td>male</td>\n",
       "    </tr>\n",
       "    <tr>\n",
       "      <th>1</th>\n",
       "      <td>0.004715</td>\n",
       "      <td>education</td>\n",
       "    </tr>\n",
       "    <tr>\n",
       "      <th>3</th>\n",
       "      <td>0.003633</td>\n",
       "      <td>bpmeds</td>\n",
       "    </tr>\n",
       "    <tr>\n",
       "      <th>2</th>\n",
       "      <td>0.000113</td>\n",
       "      <td>currentsmoker</td>\n",
       "    </tr>\n",
       "  </tbody>\n",
       "</table>\n",
       "</div>"
      ],
      "text/plain": [
       "      score      categorical\n",
       "4  0.014695  prevalentstroke\n",
       "5  0.014695     prevalenthyp\n",
       "6  0.005543         diabetes\n",
       "0  0.004977             male\n",
       "1  0.004715        education\n",
       "3  0.003633           bpmeds\n",
       "2  0.000113    currentsmoker"
      ]
     },
     "execution_count": 80,
     "metadata": {},
     "output_type": "execute_result"
    }
   ],
   "source": [
    "df_scores.sort_values(by='score', ascending=False)\n"
   ]
  },
  {
   "cell_type": "markdown",
   "metadata": {},
   "source": [
    "Look like prevalent hypertension is an important variable. Interesting in here current smokers not considering as an important variable."
   ]
  },
  {
   "cell_type": "markdown",
   "metadata": {},
   "source": []
  },
  {
   "cell_type": "markdown",
   "metadata": {},
   "source": [
    "## 3.3) Exploratory Data Analysis For Correlated Data"
   ]
  },
  {
   "cell_type": "code",
   "execution_count": 81,
   "metadata": {},
   "outputs": [
    {
     "data": {
      "image/png": "[encoded data removed]",
      "text/plain": [
       "<Figure size 1080x720 with 2 Axes>"
      ]
     },
     "metadata": {
      "needs_background": "light"
     },
     "output_type": "display_data"
    }
   ],
   "source": [
    "plt.figure(figsize=(15,10))  \n",
    "sns.heatmap(df[numerical].corr(),annot=True,linewidths=.5)\n",
    "plt.show()"
   ]
  },
  {
   "cell_type": "markdown",
   "metadata": {},
   "source": [
    "Systolic blood and diastolic blood pressure is highly correlated."
   ]
  },
  {
   "cell_type": "code",
   "execution_count": 82,
   "metadata": {},
   "outputs": [
    {
     "data": {
      "text/plain": [
       "[<matplotlib.lines.Line2D at 0x7f1f875e6850>]"
      ]
     },
     "execution_count": 82,
     "metadata": {},
     "output_type": "execute_result"
    },
    {
     "data": {
      "image/png": "[encoded data removed]",
      "text/plain": [
       "<Figure size 432x288 with 1 Axes>"
      ]
     },
     "metadata": {
      "needs_background": "light"
     },
     "output_type": "display_data"
    }
   ],
   "source": [
    "x = df_train.diabp.sort_values()\n",
    "y = df_train.sysbp.sort_values()\n",
    "plt.plot(x,y)"
   ]
  },
  {
   "cell_type": "markdown",
   "metadata": {},
   "source": [
    "# 4 Logistic Regression"
   ]
  },
  {
   "cell_type": "code",
   "execution_count": 83,
   "metadata": {},
   "outputs": [],
   "source": [
    "from sklearn.feature_extraction import DictVectorizer"
   ]
  },
  {
   "cell_type": "code",
   "execution_count": 84,
   "metadata": {},
   "outputs": [],
   "source": [
    "train_dicts = df_train.to_dict(orient = 'records')\n",
    "dv = DictVectorizer(sparse=False)"
   ]
  },
  {
   "cell_type": "code",
   "execution_count": 85,
   "metadata": {},
   "outputs": [],
   "source": [
    "X_train = dv.fit_transform(train_dicts)"
   ]
  },
  {
   "cell_type": "code",
   "execution_count": 86,
   "metadata": {},
   "outputs": [
    {
     "data": {
      "text/plain": [
       "(2542, 26)"
      ]
     },
     "execution_count": 86,
     "metadata": {},
     "output_type": "execute_result"
    }
   ],
   "source": [
    "X_train.shape"
   ]
  },
  {
   "cell_type": "code",
   "execution_count": 87,
   "metadata": {},
   "outputs": [
    {
     "data": {
      "text/plain": [
       "array(['age', 'bmi', 'bpmeds=0.0', 'bpmeds=1.0', 'bpmeds=nan',\n",
       "       'cigsperday', 'currentsmoker=0', 'currentsmoker=1', 'diabetes=0',\n",
       "       'diabetes=1', 'diabp', 'education=1.0', 'education=2.0',\n",
       "       'education=3.0', 'education=4.0', 'education=nan', 'glucose',\n",
       "       'heartrate', 'male=0', 'male=1', 'prevalenthyp=0',\n",
       "       'prevalenthyp=1', 'prevalentstroke=0', 'prevalentstroke=1',\n",
       "       'sysbp', 'totchol'], dtype=object)"
      ]
     },
     "execution_count": 87,
     "metadata": {},
     "output_type": "execute_result"
    }
   ],
   "source": [
    "dv.get_feature_names_out()"
   ]
  },
  {
   "cell_type": "code",
   "execution_count": 88,
   "metadata": {},
   "outputs": [
    {
     "data": {
      "text/plain": [
       "male                object\n",
       "age                  int64\n",
       "education           object\n",
       "currentsmoker       object\n",
       "cigsperday         float64\n",
       "bpmeds              object\n",
       "prevalentstroke     object\n",
       "prevalenthyp        object\n",
       "diabetes            object\n",
       "totchol            float64\n",
       "sysbp              float64\n",
       "diabp              float64\n",
       "bmi                float64\n",
       "heartrate          float64\n",
       "glucose            float64\n",
       "dtype: object"
      ]
     },
     "execution_count": 88,
     "metadata": {},
     "output_type": "execute_result"
    }
   ],
   "source": [
    "df_train.dtypes"
   ]
  },
  {
   "cell_type": "code",
   "execution_count": 89,
   "metadata": {},
   "outputs": [],
   "source": [
    "val_dicts = df_val.to_dict(orient='records')\n",
    "dv_val = DictVectorizer(sparse=False)\n",
    "X_val = dv_val.fit_transform(val_dicts)"
   ]
  },
  {
   "cell_type": "code",
   "execution_count": 90,
   "metadata": {},
   "outputs": [],
   "source": [
    "from sklearn.linear_model import LogisticRegression\n",
    "from sklearn.metrics import accuracy_score\n",
    "from sklearn.metrics import roc_auc_score\n",
    "import sklearn.metrics as metrics"
   ]
  },
  {
   "cell_type": "code",
   "execution_count": 98,
   "metadata": {},
   "outputs": [
    {
     "data": {
      "image/png": "[encoded data removed]",
      "text/plain": [
       "<Figure size 432x288 with 1 Axes>"
      ]
     },
     "metadata": {
      "needs_background": "light"
     },
     "output_type": "display_data"
    },
    {
     "data": {
      "image/png": "[encoded data removed]",
      "text/plain": [
       "<Figure size 432x288 with 1 Axes>"
      ]
     },
     "metadata": {
      "needs_background": "light"
     },
     "output_type": "display_data"
    },
    {
     "data": {
      "image/png": "[encoded data removed]",
      "text/plain": [
       "<Figure size 432x288 with 1 Axes>"
      ]
     },
     "metadata": {
      "needs_background": "light"
     },
     "output_type": "display_data"
    },
    {
     "data": {
      "image/png": "[encoded data removed]",
      "text/plain": [
       "<Figure size 432x288 with 1 Axes>"
      ]
     },
     "metadata": {
      "needs_background": "light"
     },
     "output_type": "display_data"
    },
    {
     "data": {
      "image/png": "[encoded data removed]",
      "text/plain": [
       "<Figure size 432x288 with 1 Axes>"
      ]
     },
     "metadata": {
      "needs_background": "light"
     },
     "output_type": "display_data"
    }
   ],
   "source": [
    "df_scores = []\n",
    "\n",
    "solver=['liblinear', 'newton-cg', 'lbfgs', 'sag', 'saga']\n",
    "\n",
    "for sol in solver:\n",
    "\n",
    "\tmodel = LogisticRegression(solver = sol, C = 1, random_state=1, max_iter = 10000)\n",
    "\tmodel.fit(X_train, y_train)\n",
    "\ty_pred = model.predict_proba(X_val)[:,1]\n",
    "\ty_pred2 = model.predict(X_val)\n",
    "\tfpr, tpr, threshold = metrics.roc_curve(y_val, y_pred)\n",
    "\taccuracy = accuracy_score(y_pred2, y_val)\n",
    "\troc_auc = metrics.auc(fpr, tpr)\n",
    "\n",
    "\n",
    "\n",
    "\tplt.title('accuracy = %0.2f'% accuracy)\n",
    "\tplt.plot(fpr, tpr, 'b', label = 'AUC = %0.2f'% roc_auc)\n",
    "\tplt.legend(loc = 'lower right')\n",
    "\tplt.plot([0, 1], [0, 1],'r--')\n",
    "\tplt.plot()\n",
    "\tplt.xlim([0, 1])\n",
    "\tplt.ylim([0, 1])\n",
    "\tplt.ylabel('True Positive Rate')\n",
    "\tplt.xlabel('False Positive Rate')\n",
    "\tplt.show()\n",
    "\n"
   ]
  },
  {
   "cell_type": "markdown",
   "metadata": {},
   "source": [
    "Accuracy scores are same but best AUC performance is liblinear and newton-cg."
   ]
  },
  {
   "cell_type": "markdown",
   "metadata": {},
   "source": [
    "## 4.1 Cross Validation"
   ]
  },
  {
   "cell_type": "code",
   "execution_count": null,
   "metadata": {},
   "outputs": [],
   "source": [
    "from tqdm.auto import tqdm\n",
    "import warnings\n",
    "warnings.filterwarnings('ignore')"
   ]
  },
  {
   "cell_type": "code",
   "execution_count": null,
   "metadata": {},
   "outputs": [],
   "source": [
    "def train(df_train, y_train, C=1.0):\n",
    "   \n",
    "        dicts = df_train.to_dict(orient='records')\n",
    "\n",
    "        dv = DictVectorizer(sparse=False)\n",
    "        X_train = dv.fit_transform(dicts)\n",
    "\n",
    "        model = LogisticRegression(C=C, max_iter=1000, solver = 'liblinear')\n",
    "        model.fit(X_train, y_train)\n",
    "        \n",
    "        return dv, model"
   ]
  },
  {
   "cell_type": "code",
   "execution_count": null,
   "metadata": {},
   "outputs": [],
   "source": [
    "dv, model = train(df_train, y_train, C=0.001)\n",
    "\n",
    "def predict(df, dv, model):\n",
    "    dicts = df[categorical + numerical].to_dict(orient='records')\n",
    "\n",
    "    X = dv.transform(dicts)\n",
    "    y_pred = model.predict_proba(X)[:, 1]\n",
    "\n",
    "    return y_pred\n",
    "\n",
    "y_pred = predict(df_val, dv, model)"
   ]
  },
  {
   "cell_type": "code",
   "execution_count": null,
   "metadata": {},
   "outputs": [],
   "source": [
    "from sklearn.model_selection import KFold"
   ]
  },
  {
   "cell_type": "code",
   "execution_count": null,
   "metadata": {},
   "outputs": [
    {
     "name": "stderr",
     "output_type": "stream",
     "text": [
      " 14%|█▍        | 1/7 [00:00<00:04,  1.43it/s]"
     ]
    },
    {
     "name": "stdout",
     "output_type": "stream",
     "text": [
      "C=0.001 0.626 +- 0.021\n"
     ]
    },
    {
     "name": "stderr",
     "output_type": "stream",
     "text": [
      " 29%|██▊       | 2/7 [00:01<00:03,  1.40it/s]"
     ]
    },
    {
     "name": "stdout",
     "output_type": "stream",
     "text": [
      "C=0.01 0.659 +- 0.018\n"
     ]
    },
    {
     "name": "stderr",
     "output_type": "stream",
     "text": [
      " 43%|████▎     | 3/7 [00:02<00:02,  1.41it/s]"
     ]
    },
    {
     "name": "stdout",
     "output_type": "stream",
     "text": [
      "C=0.1 0.647 +- 0.016\n"
     ]
    },
    {
     "name": "stderr",
     "output_type": "stream",
     "text": [
      " 57%|█████▋    | 4/7 [00:02<00:02,  1.40it/s]"
     ]
    },
    {
     "name": "stdout",
     "output_type": "stream",
     "text": [
      "C=0.5 0.632 +- 0.016\n"
     ]
    },
    {
     "name": "stderr",
     "output_type": "stream",
     "text": [
      " 71%|███████▏  | 5/7 [00:03<00:01,  1.40it/s]"
     ]
    },
    {
     "name": "stdout",
     "output_type": "stream",
     "text": [
      "C=1 0.627 +- 0.016\n"
     ]
    },
    {
     "name": "stderr",
     "output_type": "stream",
     "text": [
      " 86%|████████▌ | 6/7 [00:04<00:00,  1.39it/s]"
     ]
    },
    {
     "name": "stdout",
     "output_type": "stream",
     "text": [
      "C=5 0.611 +- 0.019\n"
     ]
    },
    {
     "name": "stderr",
     "output_type": "stream",
     "text": [
      "100%|██████████| 7/7 [00:05<00:00,  1.37it/s]"
     ]
    },
    {
     "name": "stdout",
     "output_type": "stream",
     "text": [
      "C=10 0.610 +- 0.025\n"
     ]
    },
    {
     "name": "stderr",
     "output_type": "stream",
     "text": [
      "\n"
     ]
    }
   ],
   "source": [
    "n_splits = 5\n",
    "\n",
    "for C in tqdm([0.001, 0.01, 0.1, 0.5, 1, 5, 10]):\n",
    "    kfold = KFold(n_splits=n_splits, shuffle=True, random_state=1)\n",
    "\n",
    "    scores = []\n",
    "    accuracy = []\n",
    "    for train_idx, val_idx in kfold.split(df_full_train):\n",
    "        df_train = df_full_train.iloc[train_idx]\n",
    "        df_val = df_full_train.iloc[val_idx]\n",
    "\n",
    "        y_train = df_train.tenyearchd.values\n",
    "        y_val = df_val.tenyearchd.values\n",
    "        \n",
    "\n",
    "        \n",
    "        dv, model = train(df_train, y_train, C=C)\n",
    "        y_pred = predict(df_val, dv, model)\n",
    "\n",
    "        auc = roc_auc_score(y_val, y_pred)\n",
    "        scores.append(auc)\n",
    "\n",
    "    print('C=%s %.3f +- %.3f' % (C, np.mean(scores), np.std(scores)))\n",
    "\n",
    "  "
   ]
  },
  {
   "cell_type": "markdown",
   "metadata": {},
   "source": []
  },
  {
   "cell_type": "code",
   "execution_count": null,
   "metadata": {},
   "outputs": [
    {
     "name": "stderr",
     "output_type": "stream",
     "text": [
      " 14%|█▍        | 1/7 [00:01<00:10,  1.70s/it]"
     ]
    },
    {
     "name": "stdout",
     "output_type": "stream",
     "text": [
      "C=0.001 0.7165 +- 0.016\n"
     ]
    },
    {
     "name": "stderr",
     "output_type": "stream",
     "text": [
      " 29%|██▊       | 2/7 [00:05<00:13,  2.69s/it]"
     ]
    },
    {
     "name": "stdout",
     "output_type": "stream",
     "text": [
      "C=0.01 0.7219 +- 0.014\n"
     ]
    },
    {
     "name": "stderr",
     "output_type": "stream",
     "text": [
      " 43%|████▎     | 3/7 [00:07<00:10,  2.72s/it]"
     ]
    },
    {
     "name": "stdout",
     "output_type": "stream",
     "text": [
      "C=0.1 0.7223 +- 0.014\n"
     ]
    },
    {
     "name": "stderr",
     "output_type": "stream",
     "text": [
      " 57%|█████▋    | 4/7 [00:10<00:08,  2.74s/it]"
     ]
    },
    {
     "name": "stdout",
     "output_type": "stream",
     "text": [
      "C=0.5 0.7206 +- 0.019\n"
     ]
    },
    {
     "name": "stderr",
     "output_type": "stream",
     "text": [
      " 71%|███████▏  | 5/7 [00:13<00:05,  2.72s/it]"
     ]
    },
    {
     "name": "stdout",
     "output_type": "stream",
     "text": [
      "C=1 0.7158 +- 0.016\n"
     ]
    },
    {
     "name": "stderr",
     "output_type": "stream",
     "text": [
      " 86%|████████▌ | 6/7 [00:18<00:03,  3.42s/it]"
     ]
    },
    {
     "name": "stdout",
     "output_type": "stream",
     "text": [
      "C=5 0.7193 +- 0.017\n"
     ]
    },
    {
     "name": "stderr",
     "output_type": "stream",
     "text": [
      "100%|██████████| 7/7 [00:23<00:00,  3.36s/it]"
     ]
    },
    {
     "name": "stdout",
     "output_type": "stream",
     "text": [
      "C=10 0.7157 +- 0.016\n"
     ]
    },
    {
     "name": "stderr",
     "output_type": "stream",
     "text": [
      "\n"
     ]
    },
    {
     "name": "stdout",
     "output_type": "stream",
     "text": [
      "0.7068835910652921 0.8584070796460177\n"
     ]
    }
   ],
   "source": [
    "def train(df_train, y_train, C=1.0):\n",
    "   \n",
    "        dicts = df_train.to_dict(orient='records')\n",
    "\n",
    "        dv = DictVectorizer(sparse=False)\n",
    "        X_train = dv.fit_transform(dicts)\n",
    "\n",
    "        model = LogisticRegression(C=C, max_iter=1000, solver = 'lbfgs')\n",
    "        model.fit(X_train, y_train)\n",
    "        \n",
    "        return dv, model\n",
    "\n",
    "\n",
    "dv, model = train(df_train, y_train, C=0.001)\n",
    "def predict(df, dv, model):\n",
    "    dicts = df[categorical + numerical].to_dict(orient='records')\n",
    "\n",
    "    X = dv.transform(dicts)\n",
    "    y_pred = model.predict_proba(X)[:, 1]\n",
    "\n",
    "    return y_pred\n",
    "\n",
    "y_pred = predict(df_val, dv, model)\n",
    "\n",
    "\n",
    "n_splits = 5\n",
    "\n",
    "for C in tqdm([0.001, 0.01, 0.1, 0.5, 1, 5, 10]):\n",
    "    kfold = KFold(n_splits=n_splits, shuffle=True, random_state=1)\n",
    "\n",
    "    scores = []\n",
    "    accuracy = []\n",
    "    for train_idx, val_idx in kfold.split(df_full_train):\n",
    "        df_train = df_full_train.iloc[train_idx]\n",
    "        df_val = df_full_train.iloc[val_idx]\n",
    "\n",
    "        y_train = df_train.tenyearchd.values\n",
    "        y_val = df_val.tenyearchd.values\n",
    "\n",
    "         \n",
    "\n",
    "        \n",
    "        dv, model = train(df_train, y_train, C=C)\n",
    "        y_pred = predict(df_val, dv, model)\n",
    "\n",
    "        auc = roc_auc_score(y_val, y_pred)\n",
    "        scores.append(auc)\n",
    "\n",
    "    print('C=%s %.4f +- %.3f' % (C, np.mean(scores), np.std(scores)))\n",
    "\n",
    "\n",
    "dv, model = train(df_full_train, df_full_train.tenyearchd, C=0.5)\n",
    "y_pred = predict(df_val, dv, model)\n",
    "auc = roc_auc_score(y_val, y_pred)\n",
    "acc = accuracy_score(y_val, y_pred  >= 0.5)\n",
    "\n",
    "print(auc, acc)"
   ]
  },
  {
   "cell_type": "code",
   "execution_count": null,
   "metadata": {},
   "outputs": [
    {
     "name": "stderr",
     "output_type": "stream",
     "text": [
      " 14%|█▍        | 1/7 [00:02<00:12,  2.15s/it]"
     ]
    },
    {
     "name": "stdout",
     "output_type": "stream",
     "text": [
      "C=0.001 0.7166 +- 0.016\n"
     ]
    },
    {
     "name": "stderr",
     "output_type": "stream",
     "text": [
      " 29%|██▊       | 2/7 [00:04<00:11,  2.35s/it]"
     ]
    },
    {
     "name": "stdout",
     "output_type": "stream",
     "text": [
      "C=0.01 0.7219 +- 0.014\n"
     ]
    },
    {
     "name": "stderr",
     "output_type": "stream",
     "text": [
      " 43%|████▎     | 3/7 [00:06<00:08,  2.10s/it]"
     ]
    },
    {
     "name": "stdout",
     "output_type": "stream",
     "text": [
      "C=0.1 0.7222 +- 0.014\n"
     ]
    },
    {
     "name": "stderr",
     "output_type": "stream",
     "text": [
      " 57%|█████▋    | 4/7 [00:07<00:05,  1.88s/it]"
     ]
    },
    {
     "name": "stdout",
     "output_type": "stream",
     "text": [
      "C=0.5 0.7223 +- 0.014\n"
     ]
    },
    {
     "name": "stderr",
     "output_type": "stream",
     "text": [
      " 71%|███████▏  | 5/7 [00:09<00:03,  1.82s/it]"
     ]
    },
    {
     "name": "stdout",
     "output_type": "stream",
     "text": [
      "C=1 0.7222 +- 0.014\n"
     ]
    },
    {
     "name": "stderr",
     "output_type": "stream",
     "text": [
      " 86%|████████▌ | 6/7 [00:11<00:01,  1.77s/it]"
     ]
    },
    {
     "name": "stdout",
     "output_type": "stream",
     "text": [
      "C=5 0.7221 +- 0.014\n"
     ]
    },
    {
     "name": "stderr",
     "output_type": "stream",
     "text": [
      "100%|██████████| 7/7 [00:13<00:00,  1.89s/it]"
     ]
    },
    {
     "name": "stdout",
     "output_type": "stream",
     "text": [
      "C=10 0.7221 +- 0.014\n"
     ]
    },
    {
     "name": "stderr",
     "output_type": "stream",
     "text": [
      "\n"
     ]
    }
   ],
   "source": [
    "def train(df_train, y_train, C=1.0):\n",
    "   \n",
    "        dicts = df_train.to_dict(orient='records')\n",
    "\n",
    "        dv = DictVectorizer(sparse=False)\n",
    "        X_train = dv.fit_transform(dicts)\n",
    "\n",
    "        model = LogisticRegression(C=C, max_iter=1000, solver = 'newton-cg')\n",
    "        model.fit(X_train, y_train)\n",
    "        \n",
    "        return dv, model\n",
    "\n",
    "\n",
    "dv, model = train(df_train, y_train, C=0.001)\n",
    "def predict(df, dv, model):\n",
    "    dicts = df[categorical + numerical].to_dict(orient='records')\n",
    "\n",
    "    X = dv.transform(dicts)\n",
    "    y_pred = model.predict_proba(X)[:, 1]\n",
    "\n",
    "    return y_pred\n",
    "\n",
    "y_pred = predict(df_val, dv, model)\n",
    "\n",
    "\n",
    "n_splits = 5\n",
    "\n",
    "for C in tqdm([0.001, 0.01, 0.1, 0.5, 1, 5, 10]):\n",
    "    kfold = KFold(n_splits=n_splits, shuffle=True, random_state=1)\n",
    "\n",
    "    scores = []\n",
    "    accuracy = []\n",
    "    for train_idx, val_idx in kfold.split(df_full_train):\n",
    "        df_train = df_full_train.iloc[train_idx]\n",
    "        df_val = df_full_train.iloc[val_idx]\n",
    "\n",
    "        y_train = df_train.tenyearchd.values\n",
    "        y_val = df_val.tenyearchd.values\n",
    "\n",
    "         \n",
    "\n",
    "        \n",
    "        dv, model = train(df_train, y_train, C=C)\n",
    "        y_pred = predict(df_val, dv, model)\n",
    "\n",
    "        auc = roc_auc_score(y_val, y_pred)\n",
    "        scores.append(auc)\n",
    "\n",
    "    print('C=%s %.4f +- %.3f' % (C, np.mean(scores), np.std(scores)))"
   ]
  },
  {
   "cell_type": "markdown",
   "metadata": {},
   "source": []
  },
  {
   "cell_type": "markdown",
   "metadata": {},
   "source": [
    "For logistic regression best parameters are c = 0.5, logistic algorithm is newton-cg."
   ]
  },
  {
   "cell_type": "code",
   "execution_count": null,
   "metadata": {},
   "outputs": [
    {
     "name": "stdout",
     "output_type": "stream",
     "text": [
      "0.7127899484536082 0.8584070796460177\n"
     ]
    }
   ],
   "source": [
    "dv, model = train(df_full_train, df_full_train.tenyearchd, C=0.5)\n",
    "y_pred = predict(df_val, dv, model)\n",
    "auc = roc_auc_score(y_val, y_pred)\n",
    "acc = accuracy_score(y_val, y_pred  >= 0.5)\n",
    "\n",
    "print(auc, acc)"
   ]
  },
  {
   "cell_type": "markdown",
   "metadata": {},
   "source": [
    "# 5. Decision Tree \n"
   ]
  },
  {
   "cell_type": "code",
   "execution_count": null,
   "metadata": {},
   "outputs": [],
   "source": [
    "from sklearn.tree import DecisionTreeClassifier"
   ]
  },
  {
   "cell_type": "code",
   "execution_count": null,
   "metadata": {},
   "outputs": [
    {
     "data": {
      "text/plain": [
       "DecisionTreeClassifier()"
      ]
     },
     "execution_count": 68,
     "metadata": {},
     "output_type": "execute_result"
    }
   ],
   "source": [
    "train_dicts_tree = df_train_tree.to_dict(orient='records')\n",
    "dv = DictVectorizer(sparse=False)\n",
    "X_train_tree = dv.fit_transform(train_dicts_tree)\n",
    "dt = DecisionTreeClassifier()\n",
    "dt.fit(X_train_tree, y_train_tree)"
   ]
  },
  {
   "cell_type": "code",
   "execution_count": null,
   "metadata": {},
   "outputs": [],
   "source": [
    "val_dicts_tree = df_val_tree.to_dict(orient='records')\n",
    "X_val_tree = dv.fit_transform(val_dicts_tree)"
   ]
  },
  {
   "cell_type": "code",
   "execution_count": null,
   "metadata": {},
   "outputs": [],
   "source": [
    "y_val_tree_pred = dt.predict_proba(X_val_tree)[:,1]"
   ]
  },
  {
   "cell_type": "code",
   "execution_count": null,
   "metadata": {},
   "outputs": [
    {
     "data": {
      "text/plain": [
       "0.5576336335229106"
      ]
     },
     "execution_count": 71,
     "metadata": {},
     "output_type": "execute_result"
    }
   ],
   "source": [
    "roc_auc_score(y_val_tree_pred, y_val_tree)"
   ]
  },
  {
   "cell_type": "code",
   "execution_count": null,
   "metadata": {},
   "outputs": [
    {
     "data": {
      "text/plain": [
       "0.7523584905660378"
      ]
     },
     "execution_count": 72,
     "metadata": {},
     "output_type": "execute_result"
    }
   ],
   "source": [
    "accuracy_score(y_val_tree, y_val_tree_pred)"
   ]
  },
  {
   "cell_type": "code",
   "execution_count": null,
   "metadata": {},
   "outputs": [],
   "source": [
    "y_train_tree_pred = dt.predict_proba(X_train_tree)[:,1]"
   ]
  },
  {
   "cell_type": "code",
   "execution_count": null,
   "metadata": {},
   "outputs": [
    {
     "data": {
      "text/plain": [
       "1.0"
      ]
     },
     "execution_count": 74,
     "metadata": {},
     "output_type": "execute_result"
    }
   ],
   "source": [
    "roc_auc_score(y_train_tree, y_train_tree_pred)"
   ]
  },
  {
   "cell_type": "markdown",
   "metadata": {},
   "source": [
    "Model was overfitting"
   ]
  },
  {
   "cell_type": "markdown",
   "metadata": {},
   "source": [
    "## 5.1 Decision Trees Parameter Tuning"
   ]
  },
  {
   "cell_type": "code",
   "execution_count": null,
   "metadata": {},
   "outputs": [
    {
     "name": "stdout",
     "output_type": "stream",
     "text": [
      "   1 -> 0.587\n",
      "   2 -> 0.613\n",
      "   3 -> 0.696\n",
      "   4 -> 0.669\n",
      "   5 -> 0.686\n",
      "   6 -> 0.651\n",
      "  10 -> 0.588\n",
      "  15 -> 0.564\n",
      "  20 -> 0.564\n",
      "None -> 0.559\n"
     ]
    }
   ],
   "source": [
    "for d in [1,2,3,4,5,6,10,15,20, None]:\n",
    "\tdt = DecisionTreeClassifier(max_depth=d)\n",
    "\tdt.fit(X_train_tree, y_train_tree)\n",
    "\ty_pred_tree = dt.predict_proba(X_val_tree)[:, 1]\n",
    "\tauc = roc_auc_score(y_val_tree, y_pred_tree)\n",
    "\n",
    "\tprint('%4s -> %.3f' % (d, auc))"
   ]
  },
  {
   "cell_type": "code",
   "execution_count": null,
   "metadata": {},
   "outputs": [
    {
     "name": "stdout",
     "output_type": "stream",
     "text": [
      "   3,   1) -> 0.696\n",
      "   3,   2) -> 0.696\n",
      "   3,   5) -> 0.708\n",
      "   3,  10) -> 0.708\n",
      "   3,  20) -> 0.650\n",
      "   3,  50) -> 0.650\n",
      "   3, 100) -> 0.649\n",
      "   3, 150) -> 0.639\n",
      "   3, 200) -> 0.639\n",
      "   3, 500) -> 0.667\n",
      "   4,   1) -> 0.669\n",
      "   4,   2) -> 0.669\n",
      "   4,   5) -> 0.671\n",
      "   4,  10) -> 0.688\n",
      "   4,  20) -> 0.662\n",
      "   4,  50) -> 0.675\n",
      "   4, 100) -> 0.663\n",
      "   4, 150) -> 0.647\n",
      "   4, 200) -> 0.652\n",
      "   4, 500) -> 0.667\n",
      "   5,   1) -> 0.683\n",
      "   5,   2) -> 0.686\n",
      "   5,   5) -> 0.689\n",
      "   5,  10) -> 0.665\n",
      "   5,  20) -> 0.684\n",
      "   5,  50) -> 0.645\n",
      "   5, 100) -> 0.654\n",
      "   5, 150) -> 0.655\n",
      "   5, 200) -> 0.652\n",
      "   5, 500) -> 0.667\n",
      "   6,   1) -> 0.651\n",
      "   6,   2) -> 0.649\n",
      "   6,   5) -> 0.700\n",
      "   6,  10) -> 0.663\n",
      "   6,  20) -> 0.660\n",
      "   6,  50) -> 0.643\n",
      "   6, 100) -> 0.654\n",
      "   6, 150) -> 0.655\n",
      "   6, 200) -> 0.652\n",
      "   6, 500) -> 0.667\n",
      "  10,   1) -> 0.590\n",
      "  10,   2) -> 0.591\n",
      "  10,   5) -> 0.631\n",
      "  10,  10) -> 0.664\n",
      "  10,  20) -> 0.631\n",
      "  10,  50) -> 0.635\n",
      "  10, 100) -> 0.654\n",
      "  10, 150) -> 0.655\n",
      "  10, 200) -> 0.652\n",
      "  10, 500) -> 0.667\n",
      "  15,   1) -> 0.572\n",
      "  15,   2) -> 0.579\n",
      "  15,   5) -> 0.614\n",
      "  15,  10) -> 0.637\n",
      "  15,  20) -> 0.629\n",
      "  15,  50) -> 0.635\n",
      "  15, 100) -> 0.650\n",
      "  15, 150) -> 0.655\n",
      "  15, 200) -> 0.652\n",
      "  15, 500) -> 0.667\n",
      "  20,   1) -> 0.550\n",
      "  20,   2) -> 0.574\n",
      "  20,   5) -> 0.612\n",
      "  20,  10) -> 0.625\n",
      "  20,  20) -> 0.633\n",
      "  20,  50) -> 0.635\n",
      "  20, 100) -> 0.654\n",
      "  20, 150) -> 0.655\n",
      "  20, 200) -> 0.652\n",
      "  20, 500) -> 0.667\n",
      "  25,   1) -> 0.571\n",
      "  25,   2) -> 0.584\n",
      "  25,   5) -> 0.612\n",
      "  25,  10) -> 0.636\n",
      "  25,  20) -> 0.626\n",
      "  25,  50) -> 0.635\n",
      "  25, 100) -> 0.650\n",
      "  25, 150) -> 0.655\n",
      "  25, 200) -> 0.652\n",
      "  25, 500) -> 0.667\n",
      "  30,   1) -> 0.578\n",
      "  30,   2) -> 0.567\n",
      "  30,   5) -> 0.592\n",
      "  30,  10) -> 0.627\n",
      "  30,  20) -> 0.633\n",
      "  30,  50) -> 0.635\n",
      "  30, 100) -> 0.654\n",
      "  30, 150) -> 0.655\n",
      "  30, 200) -> 0.652\n",
      "  30, 500) -> 0.667\n"
     ]
    }
   ],
   "source": [
    "params = []\n",
    "for d in [3,4,5,6,10,15,20,25,30]:\n",
    "\tfor s in [1,2,5,10,20,50,100,150,200, 500]:\n",
    "\t\tdt = DecisionTreeClassifier(max_depth=d, min_samples_leaf=s)\n",
    "\t\tdt.fit(X_train_tree, y_train_tree)\n",
    "\t\ty_pred_tree = dt.predict_proba(X_val_tree)[:,1]\n",
    "\t\tauc = roc_auc_score(y_val_tree, y_pred_tree)\n",
    "\t\tprint(('%4s, %3d) -> %.3f' % (d,s, auc )))\n",
    "\t\tparams.append((s,d, auc))"
   ]
  },
  {
   "cell_type": "code",
   "execution_count": null,
   "metadata": {},
   "outputs": [],
   "source": [
    "columns = ['depth', 'leaf_sample', 'auc']\n",
    "df_params = pd.DataFrame(params, columns=columns)"
   ]
  },
  {
   "cell_type": "code",
   "execution_count": null,
   "metadata": {},
   "outputs": [
    {
     "data": {
      "text/html": [
       "<div>\n",
       "<style scoped>\n",
       "    .dataframe tbody tr th:only-of-type {\n",
       "        vertical-align: middle;\n",
       "    }\n",
       "\n",
       "    .dataframe tbody tr th {\n",
       "        vertical-align: top;\n",
       "    }\n",
       "\n",
       "    .dataframe thead th {\n",
       "        text-align: right;\n",
       "    }\n",
       "</style>\n",
       "<table border=\"1\" class=\"dataframe\">\n",
       "  <thead>\n",
       "    <tr style=\"text-align: right;\">\n",
       "      <th></th>\n",
       "      <th>depth</th>\n",
       "      <th>leaf_sample</th>\n",
       "      <th>auc</th>\n",
       "    </tr>\n",
       "  </thead>\n",
       "  <tbody>\n",
       "    <tr>\n",
       "      <th>3</th>\n",
       "      <td>10</td>\n",
       "      <td>3</td>\n",
       "      <td>0.708220</td>\n",
       "    </tr>\n",
       "    <tr>\n",
       "      <th>2</th>\n",
       "      <td>5</td>\n",
       "      <td>3</td>\n",
       "      <td>0.708034</td>\n",
       "    </tr>\n",
       "    <tr>\n",
       "      <th>32</th>\n",
       "      <td>5</td>\n",
       "      <td>6</td>\n",
       "      <td>0.700246</td>\n",
       "    </tr>\n",
       "    <tr>\n",
       "      <th>0</th>\n",
       "      <td>1</td>\n",
       "      <td>3</td>\n",
       "      <td>0.695742</td>\n",
       "    </tr>\n",
       "    <tr>\n",
       "      <th>1</th>\n",
       "      <td>2</td>\n",
       "      <td>3</td>\n",
       "      <td>0.695742</td>\n",
       "    </tr>\n",
       "    <tr>\n",
       "      <th>...</th>\n",
       "      <td>...</td>\n",
       "      <td>...</td>\n",
       "      <td>...</td>\n",
       "    </tr>\n",
       "    <tr>\n",
       "      <th>61</th>\n",
       "      <td>2</td>\n",
       "      <td>20</td>\n",
       "      <td>0.574441</td>\n",
       "    </tr>\n",
       "    <tr>\n",
       "      <th>50</th>\n",
       "      <td>1</td>\n",
       "      <td>15</td>\n",
       "      <td>0.571721</td>\n",
       "    </tr>\n",
       "    <tr>\n",
       "      <th>70</th>\n",
       "      <td>1</td>\n",
       "      <td>25</td>\n",
       "      <td>0.570714</td>\n",
       "    </tr>\n",
       "    <tr>\n",
       "      <th>81</th>\n",
       "      <td>2</td>\n",
       "      <td>30</td>\n",
       "      <td>0.566983</td>\n",
       "    </tr>\n",
       "    <tr>\n",
       "      <th>60</th>\n",
       "      <td>1</td>\n",
       "      <td>20</td>\n",
       "      <td>0.550236</td>\n",
       "    </tr>\n",
       "  </tbody>\n",
       "</table>\n",
       "<p>90 rows × 3 columns</p>\n",
       "</div>"
      ],
      "text/plain": [
       "    depth  leaf_sample       auc\n",
       "3      10            3  0.708220\n",
       "2       5            3  0.708034\n",
       "32      5            6  0.700246\n",
       "0       1            3  0.695742\n",
       "1       2            3  0.695742\n",
       "..    ...          ...       ...\n",
       "61      2           20  0.574441\n",
       "50      1           15  0.571721\n",
       "70      1           25  0.570714\n",
       "81      2           30  0.566983\n",
       "60      1           20  0.550236\n",
       "\n",
       "[90 rows x 3 columns]"
      ]
     },
     "execution_count": 78,
     "metadata": {},
     "output_type": "execute_result"
    }
   ],
   "source": [
    "df_params.sort_values('auc', ascending=False)"
   ]
  },
  {
   "cell_type": "code",
   "execution_count": null,
   "metadata": {},
   "outputs": [],
   "source": [
    "df_params_pivot = df_params.pivot(index = 'leaf_sample', columns=['depth'], values=['auc'])"
   ]
  },
  {
   "cell_type": "code",
   "execution_count": null,
   "metadata": {},
   "outputs": [
    {
     "data": {
      "text/plain": [
       "<AxesSubplot:xlabel='None-depth', ylabel='leaf_sample'>"
      ]
     },
     "execution_count": 80,
     "metadata": {},
     "output_type": "execute_result"
    },
    {
     "data": {
      "image/png": "[encoded data removed]",
      "text/plain": [
       "<Figure size 1080x720 with 2 Axes>"
      ]
     },
     "metadata": {
      "needs_background": "light"
     },
     "output_type": "display_data"
    }
   ],
   "source": [
    "plt.figure(figsize = (15,10))\n",
    "sns.heatmap(df_params_pivot, annot = True)"
   ]
  },
  {
   "cell_type": "markdown",
   "metadata": {},
   "source": [
    "Best auc performance for leaf sample 3 and best depth is 5."
   ]
  },
  {
   "cell_type": "markdown",
   "metadata": {},
   "source": [
    "## 5.2 Final Decision Tree Model"
   ]
  },
  {
   "cell_type": "code",
   "execution_count": null,
   "metadata": {},
   "outputs": [
    {
     "name": "stdout",
     "output_type": "stream",
     "text": [
      "0.708\n"
     ]
    }
   ],
   "source": [
    "dt = DecisionTreeClassifier(max_depth=3, min_samples_leaf=10)\n",
    "dt.fit(X_train_tree, y_train_tree)\n",
    "y_pred_tree = dt.predict_proba(X_val_tree)[:,1]\n",
    "y_pred_tree2 = dt.predict(X_val_tree)\n",
    "auc = roc_auc_score(y_val_tree, y_pred_tree)\n",
    "accuracy_score(y_val_tree, y_pred_tree2)\n",
    "print(auc.round(3))"
   ]
  },
  {
   "cell_type": "code",
   "execution_count": null,
   "metadata": {},
   "outputs": [
    {
     "data": {
      "image/png": "[encoded data removed]",
      "text/plain": [
       "<Figure size 432x288 with 1 Axes>"
      ]
     },
     "metadata": {
      "needs_background": "light"
     },
     "output_type": "display_data"
    }
   ],
   "source": [
    "fpr, tpr, threshold = metrics.roc_curve(y_val_tree, y_pred_tree)\n",
    "roc_auc = metrics.auc(fpr, tpr)\n",
    "accuracy = accuracy_score(y_val_tree, y_pred_tree2)\n",
    "\n",
    "\n",
    "plt.title('accuracy = %0.2f'% accuracy)\n",
    "plt.plot(fpr, tpr, 'b', label = 'AUC = %0.2f'% roc_auc)\n",
    "plt.legend(loc = 'lower right')\n",
    "plt.plot([0, 1], [0, 1],'r--')\n",
    "plt.plot()\n",
    "plt.xlim([0, 1])\n",
    "plt.ylim([0, 1])\n",
    "plt.ylabel('True Positive Rate')\n",
    "plt.xlabel('False Positive Rate')\n",
    "plt.show()"
   ]
  },
  {
   "cell_type": "markdown",
   "metadata": {},
   "source": [
    "# 6. Random Forest"
   ]
  },
  {
   "cell_type": "code",
   "execution_count": null,
   "metadata": {},
   "outputs": [],
   "source": [
    "from sklearn.ensemble import RandomForestClassifier\n"
   ]
  },
  {
   "cell_type": "code",
   "execution_count": null,
   "metadata": {},
   "outputs": [],
   "source": [
    "train_dicts_forest = df_train_forest.to_dict(orient='records')\n",
    "dv = DictVectorizer(sparse=False)\n",
    "X_train_forest = dv.fit_transform(train_dicts_forest)\n",
    "\n",
    "\n",
    "val_dicts_forest = df_val_foresst.to_dict(orient='recoreds')\n",
    "dv = DictVectorizer(sparse=False)\n",
    "X_val_forest = dv.fit_transform(val_dicts_forest)"
   ]
  },
  {
   "cell_type": "code",
   "execution_count": null,
   "metadata": {},
   "outputs": [],
   "source": [
    "rf_scores= []\n",
    "for n in range(10, 201, 10):\n",
    "\trf = RandomForestClassifier(n_estimators=n, random_state=1)\n",
    "\trf.fit(X_train_forest, y_train_forest)\n",
    "\n",
    "\ty_pred_forest_val = rf.predict_proba(X_val_forest)[:,1]\n",
    "\tauc = roc_auc_score(y_val_forest, y_pred_forest_val)\n",
    "\trf_scores.append((n, auc))\n"
   ]
  },
  {
   "cell_type": "code",
   "execution_count": null,
   "metadata": {},
   "outputs": [],
   "source": [
    "columns = ['n_estimator', 'auc']\n",
    "df_rf_scores = pd.DataFrame(rf_scores, columns=columns)"
   ]
  },
  {
   "cell_type": "code",
   "execution_count": null,
   "metadata": {},
   "outputs": [
    {
     "data": {
      "text/html": [
       "<div>\n",
       "<style scoped>\n",
       "    .dataframe tbody tr th:only-of-type {\n",
       "        vertical-align: middle;\n",
       "    }\n",
       "\n",
       "    .dataframe tbody tr th {\n",
       "        vertical-align: top;\n",
       "    }\n",
       "\n",
       "    .dataframe thead th {\n",
       "        text-align: right;\n",
       "    }\n",
       "</style>\n",
       "<table border=\"1\" class=\"dataframe\">\n",
       "  <thead>\n",
       "    <tr style=\"text-align: right;\">\n",
       "      <th></th>\n",
       "      <th>n_estimator</th>\n",
       "      <th>auc</th>\n",
       "    </tr>\n",
       "  </thead>\n",
       "  <tbody>\n",
       "    <tr>\n",
       "      <th>15</th>\n",
       "      <td>160</td>\n",
       "      <td>0.688513</td>\n",
       "    </tr>\n",
       "    <tr>\n",
       "      <th>16</th>\n",
       "      <td>170</td>\n",
       "      <td>0.687784</td>\n",
       "    </tr>\n",
       "    <tr>\n",
       "      <th>14</th>\n",
       "      <td>150</td>\n",
       "      <td>0.687742</td>\n",
       "    </tr>\n",
       "    <tr>\n",
       "      <th>17</th>\n",
       "      <td>180</td>\n",
       "      <td>0.686996</td>\n",
       "    </tr>\n",
       "    <tr>\n",
       "      <th>12</th>\n",
       "      <td>130</td>\n",
       "      <td>0.686805</td>\n",
       "    </tr>\n",
       "    <tr>\n",
       "      <th>13</th>\n",
       "      <td>140</td>\n",
       "      <td>0.686698</td>\n",
       "    </tr>\n",
       "    <tr>\n",
       "      <th>7</th>\n",
       "      <td>80</td>\n",
       "      <td>0.685623</td>\n",
       "    </tr>\n",
       "    <tr>\n",
       "      <th>18</th>\n",
       "      <td>190</td>\n",
       "      <td>0.685586</td>\n",
       "    </tr>\n",
       "    <tr>\n",
       "      <th>10</th>\n",
       "      <td>110</td>\n",
       "      <td>0.685389</td>\n",
       "    </tr>\n",
       "    <tr>\n",
       "      <th>9</th>\n",
       "      <td>100</td>\n",
       "      <td>0.685314</td>\n",
       "    </tr>\n",
       "    <tr>\n",
       "      <th>11</th>\n",
       "      <td>120</td>\n",
       "      <td>0.685256</td>\n",
       "    </tr>\n",
       "    <tr>\n",
       "      <th>8</th>\n",
       "      <td>90</td>\n",
       "      <td>0.684739</td>\n",
       "    </tr>\n",
       "    <tr>\n",
       "      <th>19</th>\n",
       "      <td>200</td>\n",
       "      <td>0.683643</td>\n",
       "    </tr>\n",
       "    <tr>\n",
       "      <th>6</th>\n",
       "      <td>70</td>\n",
       "      <td>0.682503</td>\n",
       "    </tr>\n",
       "    <tr>\n",
       "      <th>5</th>\n",
       "      <td>60</td>\n",
       "      <td>0.678724</td>\n",
       "    </tr>\n",
       "    <tr>\n",
       "      <th>4</th>\n",
       "      <td>50</td>\n",
       "      <td>0.674359</td>\n",
       "    </tr>\n",
       "    <tr>\n",
       "      <th>3</th>\n",
       "      <td>40</td>\n",
       "      <td>0.667114</td>\n",
       "    </tr>\n",
       "    <tr>\n",
       "      <th>2</th>\n",
       "      <td>30</td>\n",
       "      <td>0.663260</td>\n",
       "    </tr>\n",
       "    <tr>\n",
       "      <th>1</th>\n",
       "      <td>20</td>\n",
       "      <td>0.660071</td>\n",
       "    </tr>\n",
       "    <tr>\n",
       "      <th>0</th>\n",
       "      <td>10</td>\n",
       "      <td>0.639002</td>\n",
       "    </tr>\n",
       "  </tbody>\n",
       "</table>\n",
       "</div>"
      ],
      "text/plain": [
       "    n_estimator       auc\n",
       "15          160  0.688513\n",
       "16          170  0.687784\n",
       "14          150  0.687742\n",
       "17          180  0.686996\n",
       "12          130  0.686805\n",
       "13          140  0.686698\n",
       "7            80  0.685623\n",
       "18          190  0.685586\n",
       "10          110  0.685389\n",
       "9           100  0.685314\n",
       "11          120  0.685256\n",
       "8            90  0.684739\n",
       "19          200  0.683643\n",
       "6            70  0.682503\n",
       "5            60  0.678724\n",
       "4            50  0.674359\n",
       "3            40  0.667114\n",
       "2            30  0.663260\n",
       "1            20  0.660071\n",
       "0            10  0.639002"
      ]
     },
     "execution_count": 87,
     "metadata": {},
     "output_type": "execute_result"
    }
   ],
   "source": [
    "df_rf_scores.sort_values('auc', ascending=False)"
   ]
  },
  {
   "cell_type": "code",
   "execution_count": null,
   "metadata": {},
   "outputs": [
    {
     "data": {
      "text/plain": [
       "[<matplotlib.lines.Line2D at 0x7ff3b6732b50>]"
      ]
     },
     "execution_count": 88,
     "metadata": {},
     "output_type": "execute_result"
    },
    {
     "data": {
      "image/png": "[encoded data removed]",
      "text/plain": [
       "<Figure size 432x288 with 1 Axes>"
      ]
     },
     "metadata": {
      "needs_background": "light"
     },
     "output_type": "display_data"
    }
   ],
   "source": [
    "plt.plot(df_rf_scores.n_estimator, df_rf_scores.auc)"
   ]
  },
  {
   "cell_type": "code",
   "execution_count": null,
   "metadata": {},
   "outputs": [],
   "source": [
    "rf_scores = []\n",
    "\n",
    "for d in [5, 10, 15, 20, 50, 100]:\n",
    "    for n in range(10, 201, 10):\n",
    "\n",
    "        rf = RandomForestClassifier(\n",
    "            n_estimators=n, max_depth=d, random_state=1)\n",
    "        rf.fit(X_train_forest, y_train_forest)\n",
    "\n",
    "        y_pred_forest_val = rf.predict_proba(X_val_forest)[:, 1]\n",
    "        auc = roc_auc_score(y_val_forest, y_pred_forest_val)\n",
    "        rf_scores.append((n,d, auc))\n"
   ]
  },
  {
   "cell_type": "code",
   "execution_count": null,
   "metadata": {},
   "outputs": [],
   "source": [
    "columns = ['n_estimator', 'max_depth', 'auc']\n",
    "df_rf_scores = pd.DataFrame(rf_scores, columns=columns)"
   ]
  },
  {
   "cell_type": "code",
   "execution_count": null,
   "metadata": {},
   "outputs": [
    {
     "data": {
      "text/plain": [
       "<matplotlib.legend.Legend at 0x7ff3b63332b0>"
      ]
     },
     "execution_count": 91,
     "metadata": {},
     "output_type": "execute_result"
    },
    {
     "data": {
      "image/png": "[encoded data removed]",
      "text/plain": [
       "<Figure size 1080x720 with 1 Axes>"
      ]
     },
     "metadata": {
      "needs_background": "light"
     },
     "output_type": "display_data"
    }
   ],
   "source": [
    "plt.figure(figsize=(15,10))  \n",
    "for d in [5, 10, 15, 20, 50, 100]:\n",
    "\tdf_rf_subset = df_rf_scores[df_rf_scores.max_depth ==d]\n",
    "\tplt.plot(df_rf_subset.n_estimator, df_rf_subset.auc, label = 'max_depth=%d' %d)\n",
    "\n",
    "plt.legend()"
   ]
  },
  {
   "cell_type": "code",
   "execution_count": null,
   "metadata": {},
   "outputs": [
    {
     "data": {
      "text/plain": [
       "<AxesSubplot:xlabel='None-depth', ylabel='leaf_sample'>"
      ]
     },
     "execution_count": 92,
     "metadata": {},
     "output_type": "execute_result"
    },
    {
     "data": {
      "image/png": "[encoded data removed]",
      "text/plain": [
       "<Figure size 1080x720 with 2 Axes>"
      ]
     },
     "metadata": {
      "needs_background": "light"
     },
     "output_type": "display_data"
    }
   ],
   "source": [
    "df_rf_scores_pivot = df_rf_scores.pivot(index = 'n_estimator', columns=['max_depth'], values = ['auc'])\n",
    "plt.figure(figsize = (15,10))\n",
    "sns.heatmap(df_params_pivot, annot = True)"
   ]
  },
  {
   "cell_type": "markdown",
   "metadata": {},
   "source": [
    "max_depth 5 and 10 is better auc score."
   ]
  },
  {
   "cell_type": "code",
   "execution_count": null,
   "metadata": {},
   "outputs": [],
   "source": [
    "for s in [1,3,5,15,20,50,100]:\n",
    "\tfor n in range(10,201,10):\n",
    "\t\trf = RandomForestClassifier(n_estimators=n, max_depth=5, min_samples_leaf=s, random_state=1)\n",
    "\n",
    "\n",
    "\t\trf.fit(X_train_forest, y_train_forest)\n",
    "\t\ty_pred_forest_val = rf.predict_proba(X_val_forest)[:,1]\n",
    "\t\tauc = roc_auc_score(y_val_forest, y_pred_forest_val)\n",
    "\t\trf_scores.append((s,n, auc))"
   ]
  },
  {
   "cell_type": "code",
   "execution_count": null,
   "metadata": {},
   "outputs": [
    {
     "data": {
      "text/plain": [
       "<matplotlib.legend.Legend at 0x7ff3b678a1f0>"
      ]
     },
     "execution_count": 94,
     "metadata": {},
     "output_type": "execute_result"
    },
    {
     "data": {
      "image/png": "[encoded data removed]",
      "text/plain": [
       "<Figure size 1080x720 with 1 Axes>"
      ]
     },
     "metadata": {
      "needs_background": "light"
     },
     "output_type": "display_data"
    }
   ],
   "source": [
    "columns = ['min_sample_leaf', 'n_estimator', 'auc']\n",
    "df_rf_scores = pd.DataFrame(rf_scores, columns=columns)\n",
    "\n",
    "plt.figure(figsize=(15, 10))\n",
    "for s in [1, 3, 5, 15, 20, 50]:\n",
    "    df_rf_subset = df_rf_scores[df_rf_scores.min_sample_leaf == s]\n",
    "    plt.plot(df_rf_subset.n_estimator, df_rf_subset.auc,\n",
    "             label='min_sample_leaf=%d' % s)\n",
    "\n",
    "plt.legend()"
   ]
  },
  {
   "cell_type": "code",
   "execution_count": null,
   "metadata": {},
   "outputs": [
    {
     "data": {
      "text/html": [
       "<div>\n",
       "<style scoped>\n",
       "    .dataframe tbody tr th:only-of-type {\n",
       "        vertical-align: middle;\n",
       "    }\n",
       "\n",
       "    .dataframe tbody tr th {\n",
       "        vertical-align: top;\n",
       "    }\n",
       "\n",
       "    .dataframe thead th {\n",
       "        text-align: right;\n",
       "    }\n",
       "</style>\n",
       "<table border=\"1\" class=\"dataframe\">\n",
       "  <thead>\n",
       "    <tr style=\"text-align: right;\">\n",
       "      <th></th>\n",
       "      <th>128</th>\n",
       "      <th>8</th>\n",
       "      <th>126</th>\n",
       "      <th>6</th>\n",
       "      <th>7</th>\n",
       "      <th>127</th>\n",
       "      <th>14</th>\n",
       "      <th>134</th>\n",
       "      <th>5</th>\n",
       "      <th>125</th>\n",
       "      <th>...</th>\n",
       "      <th>102</th>\n",
       "      <th>40</th>\n",
       "      <th>61</th>\n",
       "      <th>81</th>\n",
       "      <th>101</th>\n",
       "      <th>240</th>\n",
       "      <th>20</th>\n",
       "      <th>80</th>\n",
       "      <th>100</th>\n",
       "      <th>60</th>\n",
       "    </tr>\n",
       "  </thead>\n",
       "  <tbody>\n",
       "    <tr>\n",
       "      <th>min_sample_leaf</th>\n",
       "      <td>1.000000</td>\n",
       "      <td>90.000000</td>\n",
       "      <td>1.000000</td>\n",
       "      <td>70.000000</td>\n",
       "      <td>80.000000</td>\n",
       "      <td>1.000000</td>\n",
       "      <td>150.000000</td>\n",
       "      <td>1.000000</td>\n",
       "      <td>60.000000</td>\n",
       "      <td>1.000000</td>\n",
       "      <td>...</td>\n",
       "      <td>30.00000</td>\n",
       "      <td>10.000000</td>\n",
       "      <td>20.000000</td>\n",
       "      <td>20.000000</td>\n",
       "      <td>20.000000</td>\n",
       "      <td>100.000000</td>\n",
       "      <td>10.000000</td>\n",
       "      <td>10.000000</td>\n",
       "      <td>10.000000</td>\n",
       "      <td>10.00000</td>\n",
       "    </tr>\n",
       "    <tr>\n",
       "      <th>n_estimator</th>\n",
       "      <td>90.000000</td>\n",
       "      <td>5.000000</td>\n",
       "      <td>70.000000</td>\n",
       "      <td>5.000000</td>\n",
       "      <td>5.000000</td>\n",
       "      <td>80.000000</td>\n",
       "      <td>5.000000</td>\n",
       "      <td>150.000000</td>\n",
       "      <td>5.000000</td>\n",
       "      <td>60.000000</td>\n",
       "      <td>...</td>\n",
       "      <td>100.00000</td>\n",
       "      <td>15.000000</td>\n",
       "      <td>20.000000</td>\n",
       "      <td>50.000000</td>\n",
       "      <td>100.000000</td>\n",
       "      <td>10.000000</td>\n",
       "      <td>10.000000</td>\n",
       "      <td>50.000000</td>\n",
       "      <td>100.000000</td>\n",
       "      <td>20.00000</td>\n",
       "    </tr>\n",
       "    <tr>\n",
       "      <th>auc</th>\n",
       "      <td>0.706176</td>\n",
       "      <td>0.706176</td>\n",
       "      <td>0.705079</td>\n",
       "      <td>0.705079</td>\n",
       "      <td>0.704984</td>\n",
       "      <td>0.704984</td>\n",
       "      <td>0.704696</td>\n",
       "      <td>0.704696</td>\n",
       "      <td>0.704441</td>\n",
       "      <td>0.704441</td>\n",
       "      <td>...</td>\n",
       "      <td>0.66326</td>\n",
       "      <td>0.662701</td>\n",
       "      <td>0.660497</td>\n",
       "      <td>0.660071</td>\n",
       "      <td>0.660071</td>\n",
       "      <td>0.657665</td>\n",
       "      <td>0.654604</td>\n",
       "      <td>0.639002</td>\n",
       "      <td>0.639002</td>\n",
       "      <td>0.63008</td>\n",
       "    </tr>\n",
       "  </tbody>\n",
       "</table>\n",
       "<p>3 rows × 260 columns</p>\n",
       "</div>"
      ],
      "text/plain": [
       "                       128        8          126        6          7    \\\n",
       "min_sample_leaf   1.000000  90.000000   1.000000  70.000000  80.000000   \n",
       "n_estimator      90.000000   5.000000  70.000000   5.000000   5.000000   \n",
       "auc               0.706176   0.706176   0.705079   0.705079   0.704984   \n",
       "\n",
       "                       127         14          134        5          125  ...  \\\n",
       "min_sample_leaf   1.000000  150.000000    1.000000  60.000000   1.000000  ...   \n",
       "n_estimator      80.000000    5.000000  150.000000   5.000000  60.000000  ...   \n",
       "auc               0.704984    0.704696    0.704696   0.704441   0.704441  ...   \n",
       "\n",
       "                       102        40         61         81          101  \\\n",
       "min_sample_leaf   30.00000  10.000000  20.000000  20.000000   20.000000   \n",
       "n_estimator      100.00000  15.000000  20.000000  50.000000  100.000000   \n",
       "auc                0.66326   0.662701   0.660497   0.660071    0.660071   \n",
       "\n",
       "                        240        20         80          100       60   \n",
       "min_sample_leaf  100.000000  10.000000  10.000000   10.000000  10.00000  \n",
       "n_estimator       10.000000  10.000000  50.000000  100.000000  20.00000  \n",
       "auc                0.657665   0.654604   0.639002    0.639002   0.63008  \n",
       "\n",
       "[3 rows x 260 columns]"
      ]
     },
     "execution_count": 95,
     "metadata": {},
     "output_type": "execute_result"
    }
   ],
   "source": [
    "df_rf_scores.sort_values('auc', ascending=False).T"
   ]
  },
  {
   "cell_type": "markdown",
   "metadata": {},
   "source": [
    "minimum sample leaf 1 has best auc. Also 15 has more stabil after 100 n estimator."
   ]
  },
  {
   "cell_type": "code",
   "execution_count": null,
   "metadata": {},
   "outputs": [],
   "source": [
    "final_scores = []\n",
    "for x in [1, 15]:\n",
    "    for y in [5, 10]:\n",
    "        for n in range(50, 200):\n",
    "            for max_f in [ 'auto', 'sqrt', 'log2']:\n",
    "                rf = RandomForestClassifier(\n",
    "                    n_estimators=n, max_depth=x, min_samples_leaf=y, random_state=1, n_jobs=-1, max_features=max_f)\n",
    "                rf.fit(X_train_forest, y_train_forest)\n",
    "                y_pred_forest_val = rf.predict_proba(X_val_forest)[:, 1]\n",
    "                y_ped2 = rf.predict(X_val_forest)\n",
    "                accuracy =accuracy_score(y_val_forest, y_pred2)\n",
    "                auc = roc_auc_score(y_val_forest, y_pred_forest_val)\n",
    "                final_scores.append((n, x, y, max_f, auc, accuracy))\n"
   ]
  },
  {
   "cell_type": "code",
   "execution_count": null,
   "metadata": {},
   "outputs": [],
   "source": [
    "col = ['n_estimators', 'max_depth', 'min_samples_leaf','max_f','auc','accuracy']\n",
    "df_final_scores = pd.DataFrame(final_scores, columns=col)"
   ]
  },
  {
   "cell_type": "code",
   "execution_count": null,
   "metadata": {},
   "outputs": [
    {
     "data": {
      "text/html": [
       "<div>\n",
       "<style scoped>\n",
       "    .dataframe tbody tr th:only-of-type {\n",
       "        vertical-align: middle;\n",
       "    }\n",
       "\n",
       "    .dataframe tbody tr th {\n",
       "        vertical-align: top;\n",
       "    }\n",
       "\n",
       "    .dataframe thead th {\n",
       "        text-align: right;\n",
       "    }\n",
       "</style>\n",
       "<table border=\"1\" class=\"dataframe\">\n",
       "  <thead>\n",
       "    <tr style=\"text-align: right;\">\n",
       "      <th></th>\n",
       "      <th>n_estimators</th>\n",
       "      <th>max_depth</th>\n",
       "      <th>min_samples_leaf</th>\n",
       "      <th>max_f</th>\n",
       "      <th>auc</th>\n",
       "      <th>accuracy</th>\n",
       "    </tr>\n",
       "  </thead>\n",
       "  <tbody>\n",
       "    <tr>\n",
       "      <th>1478</th>\n",
       "      <td>92</td>\n",
       "      <td>15</td>\n",
       "      <td>10</td>\n",
       "      <td>log2</td>\n",
       "      <td>0.705111</td>\n",
       "      <td>0.854953</td>\n",
       "    </tr>\n",
       "    <tr>\n",
       "      <th>1475</th>\n",
       "      <td>91</td>\n",
       "      <td>15</td>\n",
       "      <td>10</td>\n",
       "      <td>log2</td>\n",
       "      <td>0.704387</td>\n",
       "      <td>0.854953</td>\n",
       "    </tr>\n",
       "    <tr>\n",
       "      <th>1484</th>\n",
       "      <td>94</td>\n",
       "      <td>15</td>\n",
       "      <td>10</td>\n",
       "      <td>log2</td>\n",
       "      <td>0.704302</td>\n",
       "      <td>0.854953</td>\n",
       "    </tr>\n",
       "    <tr>\n",
       "      <th>1481</th>\n",
       "      <td>93</td>\n",
       "      <td>15</td>\n",
       "      <td>10</td>\n",
       "      <td>log2</td>\n",
       "      <td>0.704260</td>\n",
       "      <td>0.854953</td>\n",
       "    </tr>\n",
       "    <tr>\n",
       "      <th>1499</th>\n",
       "      <td>99</td>\n",
       "      <td>15</td>\n",
       "      <td>10</td>\n",
       "      <td>log2</td>\n",
       "      <td>0.704238</td>\n",
       "      <td>0.854953</td>\n",
       "    </tr>\n",
       "    <tr>\n",
       "      <th>...</th>\n",
       "      <td>...</td>\n",
       "      <td>...</td>\n",
       "      <td>...</td>\n",
       "      <td>...</td>\n",
       "      <td>...</td>\n",
       "      <td>...</td>\n",
       "    </tr>\n",
       "    <tr>\n",
       "      <th>2</th>\n",
       "      <td>50</td>\n",
       "      <td>1</td>\n",
       "      <td>5</td>\n",
       "      <td>log2</td>\n",
       "      <td>0.683446</td>\n",
       "      <td>0.854953</td>\n",
       "    </tr>\n",
       "    <tr>\n",
       "      <th>451</th>\n",
       "      <td>50</td>\n",
       "      <td>1</td>\n",
       "      <td>10</td>\n",
       "      <td>sqrt</td>\n",
       "      <td>0.675445</td>\n",
       "      <td>0.854953</td>\n",
       "    </tr>\n",
       "    <tr>\n",
       "      <th>450</th>\n",
       "      <td>50</td>\n",
       "      <td>1</td>\n",
       "      <td>10</td>\n",
       "      <td>auto</td>\n",
       "      <td>0.675445</td>\n",
       "      <td>0.854953</td>\n",
       "    </tr>\n",
       "    <tr>\n",
       "      <th>1</th>\n",
       "      <td>50</td>\n",
       "      <td>1</td>\n",
       "      <td>5</td>\n",
       "      <td>sqrt</td>\n",
       "      <td>0.675445</td>\n",
       "      <td>0.854953</td>\n",
       "    </tr>\n",
       "    <tr>\n",
       "      <th>0</th>\n",
       "      <td>50</td>\n",
       "      <td>1</td>\n",
       "      <td>5</td>\n",
       "      <td>auto</td>\n",
       "      <td>0.675445</td>\n",
       "      <td>0.854953</td>\n",
       "    </tr>\n",
       "  </tbody>\n",
       "</table>\n",
       "<p>1800 rows × 6 columns</p>\n",
       "</div>"
      ],
      "text/plain": [
       "      n_estimators  max_depth  min_samples_leaf max_f       auc  accuracy\n",
       "1478            92         15                10  log2  0.705111  0.854953\n",
       "1475            91         15                10  log2  0.704387  0.854953\n",
       "1484            94         15                10  log2  0.704302  0.854953\n",
       "1481            93         15                10  log2  0.704260  0.854953\n",
       "1499            99         15                10  log2  0.704238  0.854953\n",
       "...            ...        ...               ...   ...       ...       ...\n",
       "2               50          1                 5  log2  0.683446  0.854953\n",
       "451             50          1                10  sqrt  0.675445  0.854953\n",
       "450             50          1                10  auto  0.675445  0.854953\n",
       "1               50          1                 5  sqrt  0.675445  0.854953\n",
       "0               50          1                 5  auto  0.675445  0.854953\n",
       "\n",
       "[1800 rows x 6 columns]"
      ]
     },
     "execution_count": 98,
     "metadata": {},
     "output_type": "execute_result"
    }
   ],
   "source": [
    "df_final_scores.sort_values('auc', ascending=False)"
   ]
  },
  {
   "cell_type": "markdown",
   "metadata": {},
   "source": [
    "Final model parameters is n_estimator 71, minimum sample leaf 15 and max_depth are 5."
   ]
  },
  {
   "cell_type": "code",
   "execution_count": null,
   "metadata": {},
   "outputs": [
    {
     "data": {
      "text/plain": [
       "0.7051114163126684"
      ]
     },
     "execution_count": 99,
     "metadata": {},
     "output_type": "execute_result"
    }
   ],
   "source": [
    "final_rf = RandomForestClassifier(n_estimators=92, max_depth=15, min_samples_leaf=10, max_features='log2', random_state=1, n_jobs=-1)\n",
    "final_rf.fit(X_train_forest, y_train_forest)\n",
    "y_pred_forest_val = final_rf.predict_proba(X_val_forest)[:, 1]\n",
    "auc = roc_auc_score(y_val_forest, y_pred_forest_val)\n",
    "auc"
   ]
  },
  {
   "cell_type": "markdown",
   "metadata": {},
   "source": [
    "# 7. Gradient Boosting and XGBoost"
   ]
  },
  {
   "cell_type": "code",
   "execution_count": null,
   "metadata": {},
   "outputs": [],
   "source": [
    "!!!!!!!"
   ]
  },
  {
   "cell_type": "code",
   "execution_count": null,
   "metadata": {},
   "outputs": [],
   "source": [
    "import xgboost as xgb"
   ]
  },
  {
   "cell_type": "code",
   "execution_count": null,
   "metadata": {},
   "outputs": [],
   "source": [
    "features = dv.get_feature_names()"
   ]
  },
  {
   "cell_type": "code",
   "execution_count": null,
   "metadata": {},
   "outputs": [],
   "source": [
    "train_dicts_boost = df_train_boost.to_dict(orient='records')\n",
    "dv = DictVectorizer(sparse=False)\n",
    "X_train_boost = dv.fit_transform(train_dicts_boost)\n",
    "\n",
    "\n",
    "val_dicts_boost = df_val_boost.to_dict(orient='recoreds')\n",
    "dv = DictVectorizer(sparse=False)\n",
    "X_val_boost = dv.fit_transform(val_dicts_boost)"
   ]
  },
  {
   "cell_type": "code",
   "execution_count": null,
   "metadata": {},
   "outputs": [
    {
     "data": {
      "text/plain": [
       "26"
      ]
     },
     "execution_count": 103,
     "metadata": {},
     "output_type": "execute_result"
    }
   ],
   "source": [
    "features\n",
    "len(features)"
   ]
  },
  {
   "cell_type": "code",
   "execution_count": null,
   "metadata": {},
   "outputs": [],
   "source": [
    "dtrain = xgb.DMatrix(X_train_boost, label = y_train_boost, feature_names=features)\n",
    "\n",
    "dval = xgb.DMatrix(X_val_boost, label = y_val_boost, feature_names=features)\n"
   ]
  },
  {
   "cell_type": "code",
   "execution_count": null,
   "metadata": {},
   "outputs": [],
   "source": [
    "watchlist = [(dtrain, 'train'), (dval, 'val')]"
   ]
  },
  {
   "cell_type": "code",
   "execution_count": null,
   "metadata": {},
   "outputs": [],
   "source": [
    "%%capture output\n",
    "\n",
    "xgb_params = {\n",
    "\t'eta': 0.3,\n",
    "\t'max_depth':6,\n",
    "\t'min_child_weight':1,\n",
    "\t'objective': 'binary:logistic',\n",
    "\t'nthread':8,\n",
    "\t'eval_metric':'auc',\n",
    "\t'seed':1,\n",
    "\t'verbosity':1,\n",
    "\n",
    "}\n",
    "\n",
    "model = xgb.train(xgb_params, dtrain, num_boost_round=50, verbose_eval=5, evals=watchlist)\n",
    "y_pred_boost_val = model.predict(dval)"
   ]
  },
  {
   "cell_type": "code",
   "execution_count": null,
   "metadata": {},
   "outputs": [],
   "source": [
    "s = output.stdout"
   ]
  },
  {
   "cell_type": "code",
   "execution_count": null,
   "metadata": {},
   "outputs": [],
   "source": [
    "def parse_xgb_output(output):\n",
    "    results = []\n",
    "\n",
    "    for line in output.stdout.strip().split('\\n'):\n",
    "        it_line, train_line, val_line = line.split('\\t')\n",
    "\n",
    "        it = int(it_line.strip('[]'))\n",
    "        train = float(train_line.split(':')[1])\n",
    "        val = float(val_line.split(':')[1])\n",
    "\n",
    "        results.append((it, train, val))\n",
    "    \n",
    "    columns = ['num_iter', 'train_auc', 'val_auc']\n",
    "    df_results = pd.DataFrame(results, columns=columns)\n",
    "    return df_results"
   ]
  },
  {
   "cell_type": "code",
   "execution_count": null,
   "metadata": {},
   "outputs": [],
   "source": [
    "df_score = parse_xgb_output(output)"
   ]
  },
  {
   "cell_type": "code",
   "execution_count": null,
   "metadata": {},
   "outputs": [
    {
     "data": {
      "text/plain": [
       "<matplotlib.legend.Legend at 0x7ff38ed20ca0>"
      ]
     },
     "execution_count": 116,
     "metadata": {},
     "output_type": "execute_result"
    },
    {
     "data": {
      "image/png": "[encoded data removed]",
      "text/plain": [
       "<Figure size 720x504 with 1 Axes>"
      ]
     },
     "metadata": {
      "needs_background": "light"
     },
     "output_type": "display_data"
    }
   ],
   "source": [
    "plt.figure(figsize=(10,7))\n",
    "plt.plot(df_score.num_iter, df_score.train_auc, label='train')\n",
    "plt.plot(df_score.num_iter, df_score.val_auc, label='val')\n",
    "plt.legend()"
   ]
  },
  {
   "cell_type": "code",
   "execution_count": null,
   "metadata": {},
   "outputs": [
    {
     "data": {
      "text/plain": [
       "0.6279663994378613"
      ]
     },
     "execution_count": 118,
     "metadata": {},
     "output_type": "execute_result"
    }
   ],
   "source": [
    "roc_auc_score(y_val_boost, y_pred_boost_val)"
   ]
  },
  {
   "cell_type": "code",
   "execution_count": null,
   "metadata": {},
   "outputs": [],
   "source": [
    "scores = {}"
   ]
  },
  {
   "cell_type": "code",
   "execution_count": null,
   "metadata": {},
   "outputs": [],
   "source": [
    "%%capture output\n",
    "\n",
    "xgb_params = {\n",
    "    'eta': 0.1,\n",
    "    'max_depth': 3,\n",
    "    'min_child_weight': 30,\n",
    "\n",
    "    'objective': 'binary:logistic',\n",
    "    'eval_metric': 'auc',\n",
    "\n",
    "    'nthread': 8,\n",
    "    'seed': 1,\n",
    "    'verbosity': 1,\n",
    "}\n",
    "\n",
    "model = xgb.train(xgb_params, dtrain, num_boost_round=50,verbose_eval=5, evals=watchlist)\n"
   ]
  },
  {
   "cell_type": "code",
   "execution_count": null,
   "metadata": {},
   "outputs": [],
   "source": [
    "key = 'eta=%s' % (xgb_params['eta'])\n",
    "scores[key] = parse_xgb_output(output)\n"
   ]
  },
  {
   "cell_type": "code",
   "execution_count": null,
   "metadata": {},
   "outputs": [
    {
     "data": {
      "text/plain": [
       "dict_keys(['eta=0.01', 'eta=0.03', 'eta=0.05', 'eta=1', 'eta=0.5', 'eta=0.1'])"
      ]
     },
     "execution_count": 145,
     "metadata": {},
     "output_type": "execute_result"
    }
   ],
   "source": [
    "scores.keys()"
   ]
  },
  {
   "cell_type": "code",
   "execution_count": null,
   "metadata": {},
   "outputs": [
    {
     "data": {
      "text/plain": [
       "<matplotlib.legend.Legend at 0x7ff38ebec340>"
      ]
     },
     "execution_count": 146,
     "metadata": {},
     "output_type": "execute_result"
    },
    {
     "data": {
      "image/png": "[encoded data removed]",
      "text/plain": [
       "<Figure size 432x288 with 1 Axes>"
      ]
     },
     "metadata": {
      "needs_background": "light"
     },
     "output_type": "display_data"
    }
   ],
   "source": [
    "for key, df_score in scores.items():\n",
    "\tplt.plot(df_score.num_iter, df_score.val_auc, label = key)\n",
    "plt.legend()"
   ]
  },
  {
   "cell_type": "markdown",
   "metadata": {},
   "source": [
    "eta = 0.01 best parameter."
   ]
  },
  {
   "cell_type": "code",
   "execution_count": null,
   "metadata": {},
   "outputs": [
    {
     "data": {
      "text/plain": [
       "dict_keys(['max_depth=1', 'max_depth=3', 'max_depth=5'])"
      ]
     },
     "execution_count": 153,
     "metadata": {},
     "output_type": "execute_result"
    }
   ],
   "source": [
    "key = 'max_depth=%s' % (xgb_params['max_depth'])\n",
    "scores[key] = parse_xgb_output(output)\n",
    "\n",
    "scores.keys()"
   ]
  },
  {
   "cell_type": "code",
   "execution_count": null,
   "metadata": {},
   "outputs": [
    {
     "data": {
      "text/plain": [
       "<matplotlib.legend.Legend at 0x7ff38eb28880>"
      ]
     },
     "execution_count": 154,
     "metadata": {},
     "output_type": "execute_result"
    },
    {
     "data": {
      "image/png": "[encoded data removed]",
      "text/plain": [
       "<Figure size 432x288 with 1 Axes>"
      ]
     },
     "metadata": {
      "needs_background": "light"
     },
     "output_type": "display_data"
    }
   ],
   "source": [
    "for max_depth, df_score in scores.items():\n",
    "\tplt.plot(df_score.num_iter, df_score.val_auc, label = max_depth )\n",
    "\n",
    "\n",
    "plt.legend()"
   ]
  },
  {
   "cell_type": "markdown",
   "metadata": {},
   "source": [
    "max_depth=3 best paramter"
   ]
  },
  {
   "cell_type": "code",
   "execution_count": null,
   "metadata": {},
   "outputs": [
    {
     "data": {
      "text/plain": [
       "dict_keys(['min_child_weight=1', 'min_child_weight=10', 'min_child_weight=30'])"
      ]
     },
     "execution_count": 162,
     "metadata": {},
     "output_type": "execute_result"
    }
   ],
   "source": [
    "key = 'min_child_weight=%s' % (xgb_params['min_child_weight'])\n",
    "scores[key] = parse_xgb_output(output)\n",
    "scores.keys()"
   ]
  },
  {
   "cell_type": "code",
   "execution_count": null,
   "metadata": {},
   "outputs": [
    {
     "data": {
      "text/plain": [
       "<matplotlib.legend.Legend at 0x7ff38ea17d60>"
      ]
     },
     "execution_count": 163,
     "metadata": {},
     "output_type": "execute_result"
    },
    {
     "data": {
      "image/png": "[encoded data removed]",
      "text/plain": [
       "<Figure size 432x288 with 1 Axes>"
      ]
     },
     "metadata": {
      "needs_background": "light"
     },
     "output_type": "display_data"
    }
   ],
   "source": [
    "for min_child_weight, df_score in scores.items():\n",
    "\tplt.plot(df_score.num_iter, df_score.val_auc, label = min_child_weight)\n",
    "plt.legend()"
   ]
  },
  {
   "cell_type": "markdown",
   "metadata": {},
   "source": [
    "min_child_weight = 10"
   ]
  },
  {
   "cell_type": "markdown",
   "metadata": {},
   "source": [
    "## Final Gradient Boosting and XGBoost Model"
   ]
  },
  {
   "cell_type": "code",
   "execution_count": null,
   "metadata": {},
   "outputs": [
    {
     "name": "stdout",
     "output_type": "stream",
     "text": [
      "[0]\ttrain-auc:0.62266\tval-auc:0.62437\n",
      "[5]\ttrain-auc:0.69451\tval-auc:0.70997\n",
      "[10]\ttrain-auc:0.69473\tval-auc:0.70506\n",
      "[15]\ttrain-auc:0.70112\tval-auc:0.70387\n",
      "[20]\ttrain-auc:0.71630\tval-auc:0.70695\n",
      "[25]\ttrain-auc:0.71825\tval-auc:0.69977\n",
      "[30]\ttrain-auc:0.71830\tval-auc:0.70491\n",
      "[35]\ttrain-auc:0.72483\tval-auc:0.70602\n",
      "[40]\ttrain-auc:0.72781\tval-auc:0.70581\n",
      "[45]\ttrain-auc:0.72757\tval-auc:0.71632\n",
      "[50]\ttrain-auc:0.72875\tval-auc:0.71352\n",
      "[55]\ttrain-auc:0.73079\tval-auc:0.71273\n",
      "[60]\ttrain-auc:0.73083\tval-auc:0.71037\n",
      "[65]\ttrain-auc:0.73124\tval-auc:0.71204\n",
      "[70]\ttrain-auc:0.73079\tval-auc:0.71392\n",
      "[75]\ttrain-auc:0.73141\tval-auc:0.71190\n",
      "[80]\ttrain-auc:0.73296\tval-auc:0.71222\n",
      "[85]\ttrain-auc:0.73309\tval-auc:0.71058\n",
      "[90]\ttrain-auc:0.73503\tval-auc:0.71305\n",
      "[95]\ttrain-auc:0.73466\tval-auc:0.71169\n",
      "[100]\ttrain-auc:0.73492\tval-auc:0.71385\n",
      "[105]\ttrain-auc:0.73616\tval-auc:0.71408\n",
      "[110]\ttrain-auc:0.73662\tval-auc:0.71533\n",
      "[115]\ttrain-auc:0.73815\tval-auc:0.71524\n",
      "[120]\ttrain-auc:0.73816\tval-auc:0.71269\n",
      "[125]\ttrain-auc:0.73855\tval-auc:0.71144\n",
      "[130]\ttrain-auc:0.73894\tval-auc:0.71103\n",
      "[135]\ttrain-auc:0.73940\tval-auc:0.71180\n",
      "[140]\ttrain-auc:0.73995\tval-auc:0.71326\n",
      "[145]\ttrain-auc:0.74067\tval-auc:0.71211\n",
      "[149]\ttrain-auc:0.74167\tval-auc:0.71257\n"
     ]
    }
   ],
   "source": [
    "xgb_params = {\n",
    "    'eta': 0.01,\n",
    "    'max_depth': 3,\n",
    "    'min_child_weight': 10,\n",
    "\n",
    "    'objective': 'binary:logistic',\n",
    "    'eval_metric': 'auc',\n",
    "\n",
    "    'nthread': 8,\n",
    "    'seed': 1,\n",
    "    'verbosity': 1,\n",
    "    'alpha' :2,\n",
    "    'lambda':2,\n",
    "    'subsample':0.3,\n",
    "}\n",
    "\n",
    "model = xgb.train(xgb_params, dtrain, num_boost_round=150,verbose_eval=5, evals=watchlist)\n"
   ]
  },
  {
   "cell_type": "code",
   "execution_count": null,
   "metadata": {},
   "outputs": [],
   "source": [
    "y_pred_boost_val = model.predict(dval)\n"
   ]
  },
  {
   "cell_type": "code",
   "execution_count": null,
   "metadata": {},
   "outputs": [
    {
     "data": {
      "text/plain": [
       "0.8455188679245284"
      ]
     },
     "execution_count": 166,
     "metadata": {},
     "output_type": "execute_result"
    }
   ],
   "source": [
    "accuracy_score(y_val_boost, y_pred_boost_val >=0.5)"
   ]
  },
  {
   "cell_type": "code",
   "execution_count": null,
   "metadata": {},
   "outputs": [],
   "source": []
  },
  {
   "cell_type": "markdown",
   "metadata": {},
   "source": [
    "# 8. Summary: Selecting Best Model"
   ]
  },
  {
   "cell_type": "markdown",
   "metadata": {},
   "source": [
    "## Logistic Model\n"
   ]
  },
  {
   "cell_type": "code",
   "execution_count": null,
   "metadata": {},
   "outputs": [
    {
     "name": "stdout",
     "output_type": "stream",
     "text": [
      "0.7127899484536082 0.8584070796460177\n"
     ]
    }
   ],
   "source": [
    "dv, model = train(df_full_train, df_full_train.tenyearchd, C=0.5)\n",
    "y_pred = predict(df_val, dv, model)\n",
    "auc = roc_auc_score(y_val, y_pred)\n",
    "acc = accuracy_score(y_val, y_pred  >= 0.5)\n",
    "\n",
    "print(auc, acc)"
   ]
  },
  {
   "cell_type": "markdown",
   "metadata": {},
   "source": [
    "## Decision Tres"
   ]
  },
  {
   "cell_type": "code",
   "execution_count": null,
   "metadata": {},
   "outputs": [
    {
     "name": "stdout",
     "output_type": "stream",
     "text": [
      "0.708220213570113 0.8431603773584906\n"
     ]
    }
   ],
   "source": [
    "dt = DecisionTreeClassifier(max_depth=3, min_samples_leaf=10)\n",
    "dt.fit(X_train_tree, y_train_tree)\n",
    "y_pred_tree = dt.predict_proba(X_val_tree)[:,1]\n",
    "y_pred_tree2 = dt.predict(X_val_tree)\n",
    "auc = roc_auc_score(y_val_tree, y_pred_tree)\n",
    "acc = accuracy_score(y_val_tree, y_pred_tree2)\n",
    "print(auc, acc)"
   ]
  },
  {
   "cell_type": "markdown",
   "metadata": {},
   "source": [
    "## Random Forest"
   ]
  },
  {
   "cell_type": "code",
   "execution_count": null,
   "metadata": {},
   "outputs": [
    {
     "name": "stdout",
     "output_type": "stream",
     "text": [
      "0.7051114163126684 0.8490566037735849\n"
     ]
    }
   ],
   "source": [
    "final_rf = RandomForestClassifier(n_estimators=92, max_depth=15, min_samples_leaf=10, max_features='log2', random_state=1, n_jobs=-1)\n",
    "final_rf.fit(X_train_forest, y_train_forest)\n",
    "y_pred_forest_val = final_rf.predict_proba(X_val_forest)[:, 1]\n",
    "auc = roc_auc_score(y_val_forest, y_pred_forest_val)\n",
    "acc = accuracy_score(y_val_forest, y_pred_forest_val>=0.5)\n",
    "print(auc, acc)"
   ]
  },
  {
   "cell_type": "markdown",
   "metadata": {},
   "source": [
    "## XGBoost"
   ]
  },
  {
   "cell_type": "code",
   "execution_count": null,
   "metadata": {},
   "outputs": [
    {
     "name": "stdout",
     "output_type": "stream",
     "text": [
      "0.7242486186080677 0.847877358490566\n"
     ]
    }
   ],
   "source": [
    "xgb_params = {\n",
    "    'eta': 0.01,\n",
    "    'max_depth': 3,\n",
    "    'min_child_weight': 1,\n",
    "\n",
    "    'objective': 'binary:logistic',\n",
    "    'eval_metric': 'auc',\n",
    "\n",
    "    'nthread': 8,\n",
    "    'seed': 1,\n",
    "    'verbosity': 1,\n",
    "    'alpha' :3,\n",
    "    'lambda':2,\n",
    "    'subsample':0.5,\n",
    "    'colsample_bytree':0.9,\n",
    "    'tree_method':'exact'\n",
    "}\n",
    "\n",
    "model = xgb.train(xgb_params, dtrain, num_boost_round=150)\n",
    "y_pred_boost_val = model.predict(dval)\n",
    "auc = roc_auc_score(y_val_boost, y_pred_boost_val)\n",
    "acc = accuracy_score(y_val_boost, y_pred_boost_val>= 0.5)\n",
    "print(auc, acc)"
   ]
  },
  {
   "cell_type": "markdown",
   "metadata": {},
   "source": [
    "### Using model"
   ]
  },
  {
   "cell_type": "code",
   "execution_count": null,
   "metadata": {},
   "outputs": [
    {
     "data": {
      "text/plain": [
       "{'male': '0',\n",
       " 'age': 54,\n",
       " 'education': '1.0',\n",
       " 'currentsmoker': '0',\n",
       " 'cigsperday': 0.0,\n",
       " 'bpmeds': '0.0',\n",
       " 'prevalentstroke': '1',\n",
       " 'prevalenthyp': '1',\n",
       " 'diabetes': '0',\n",
       " 'totchol': 315.0,\n",
       " 'sysbp': 176.0,\n",
       " 'diabp': 87.0,\n",
       " 'bmi': 29.23,\n",
       " 'heartrate': 82.0,\n",
       " 'glucose': 72.0}"
      ]
     },
     "execution_count": 172,
     "metadata": {},
     "output_type": "execute_result"
    }
   ],
   "source": [
    "test_boost = val_dicts_boost[0]\n",
    "\n",
    "test_boost\n"
   ]
  },
  {
   "cell_type": "code",
   "execution_count": null,
   "metadata": {},
   "outputs": [],
   "source": [
    "test_boost = train_dicts_boost[1]"
   ]
  },
  {
   "cell_type": "code",
   "execution_count": null,
   "metadata": {},
   "outputs": [],
   "source": [
    "train_dicts_boost = df_train_boost.to_dict(orient='records')\n",
    "dv_test = DictVectorizer(sparse=False)\n",
    "X_train_boost = dv_test.fit_transform(train_dicts_boost)"
   ]
  },
  {
   "cell_type": "code",
   "execution_count": null,
   "metadata": {},
   "outputs": [],
   "source": [
    "test = dv_test.transform(test_boost)"
   ]
  },
  {
   "cell_type": "code",
   "execution_count": null,
   "metadata": {},
   "outputs": [
    {
     "data": {
      "text/plain": [
       "(1, 26)"
      ]
     },
     "execution_count": 176,
     "metadata": {},
     "output_type": "execute_result"
    }
   ],
   "source": [
    "test.shape"
   ]
  },
  {
   "cell_type": "code",
   "execution_count": null,
   "metadata": {},
   "outputs": [],
   "source": [
    "test2 = xgb.DMatrix(test, feature_names=features)"
   ]
  },
  {
   "cell_type": "code",
   "execution_count": null,
   "metadata": {},
   "outputs": [
    {
     "data": {
      "text/plain": [
       "array([0.2753578], dtype=float32)"
      ]
     },
     "execution_count": 178,
     "metadata": {},
     "output_type": "execute_result"
    }
   ],
   "source": [
    "model.predict(test2)"
   ]
  }
 ],
 "metadata": {
  "interpreter": {
   "hash": "878f5cf55c11667d7f96044f4d56b9f78269b095a5c963f61284780f02b52b69"
  },
  "kernelspec": {
   "display_name": "Python 3.9.2 64-bit ('homework5-3V8KzwZN': venv)",
   "name": "python3"
  },
  "language_info": {
   "codemirror_mode": {
    "name": "ipython",
    "version": 3
   },
   "file_extension": ".py",
   "mimetype": "text/x-python",
   "name": "python",
   "nbconvert_exporter": "python",
   "pygments_lexer": "ipython3",
   "version": "3.9.2"
  },
  "orig_nbformat": 4
 },
 "nbformat": 4,
 "nbformat_minor": 2
}
